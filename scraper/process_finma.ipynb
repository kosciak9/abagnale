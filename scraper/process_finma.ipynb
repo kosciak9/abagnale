{
 "cells": [
  {
   "cell_type": "code",
   "execution_count": 1,
   "metadata": {},
   "outputs": [],
   "source": [
    "import pandas as pd\n",
    "from bs4 import BeautifulSoup\n",
    "from tqdm.auto import tqdm\n",
    "from scraper import Web, Site, parallel_map, find_urls"
   ]
  },
  {
   "cell_type": "code",
   "execution_count": 2,
   "metadata": {},
   "outputs": [
    {
     "data": {
      "text/plain": [
       "'<!DOCTYPE html>\\n<!--'"
      ]
     },
     "execution_count": 2,
     "metadata": {},
     "output_type": "execute_result"
    }
   ],
   "source": [
    "with open('./sources/finma.html', 'r') as iosco_source:\n",
    "    html = iosco_source.read()\n",
    "html[:20]"
   ]
  },
  {
   "cell_type": "code",
   "execution_count": 3,
   "metadata": {},
   "outputs": [
    {
     "data": {
      "text/plain": [
       "[{'company_name': '10CryptoMarket',\n",
       "  'report_url': 'https://www.finma.ch/en/finma-public/warning-list/10cryptomarket/'},\n",
       " {'company_name': '1A-CREDIT-now AG',\n",
       "  'report_url': 'https://www.finma.ch/en/finma-public/warning-list/1a-credit-now-ag/'},\n",
       " {'company_name': '1APayment AG',\n",
       "  'report_url': 'https://www.finma.ch/en/finma-public/warning-list/1apayment-ag/'},\n",
       " {'company_name': '1oakmg Sagl',\n",
       "  'report_url': 'https://www.finma.ch/en/finma-public/warning-list/1oakmg-sagl/'}]"
      ]
     },
     "execution_count": 3,
     "metadata": {},
     "output_type": "execute_result"
    }
   ],
   "source": [
    "soup = BeautifulSoup(html, 'lxml')\n",
    "table = soup.find_all('table')[0]\n",
    "\n",
    "rows = [\n",
    "    row\n",
    "    for row in [\n",
    "        row.find_all('td')\n",
    "        for row in table.find_all('tr')\n",
    "    ]\n",
    "    if len(row) > 0\n",
    "]\n",
    "metadata = [\n",
    "    dict(\n",
    "        company_name=row[0].a.get_text(),\n",
    "        report_url=row[0].a['href']\n",
    "    )\n",
    "    for row in rows\n",
    "]\n",
    "metadata = metadata[:64] # so that we fit in Vercel memory limits 30 steps from now\n",
    "metadata[:4]"
   ]
  },
  {
   "cell_type": "code",
   "execution_count": 4,
   "metadata": {},
   "outputs": [
    {
     "data": {
      "text/plain": [
       "'https://www.10cryptomarket.com/'"
      ]
     },
     "execution_count": 4,
     "metadata": {},
     "output_type": "execute_result"
    }
   ],
   "source": [
    "def get_homepage_url(report_url):\n",
    "    return pd.read_html(report_url)[0][1].iloc[3]\n",
    "    \n",
    "get_homepage_url('https://www.finma.ch/en/finma-public/warning-list/10cryptomarket/')"
   ]
  },
  {
   "cell_type": "code",
   "execution_count": 5,
   "metadata": {},
   "outputs": [
    {
     "data": {
      "application/vnd.jupyter.widget-view+json": {
       "model_id": "b1fec784ecf0468b92af5503eaa75fa5",
       "version_major": 2,
       "version_minor": 0
      },
      "text/plain": [
       "HBox(children=(HTML(value=''), FloatProgress(value=0.0, max=64.0), HTML(value='')))"
      ]
     },
     "metadata": {},
     "output_type": "display_data"
    },
    {
     "name": "stdout",
     "output_type": "stream",
     "text": [
      "\n"
     ]
    },
    {
     "data": {
      "text/plain": [
       "['http://www.10cryptomarket.com/',\n",
       " 'http://www.1a-credit-now.ch',\n",
       " 'http://www.1apcoin.com',\n",
       " 'http://www.1apayment.com']"
      ]
     },
     "execution_count": 5,
     "metadata": {},
     "output_type": "execute_result"
    }
   ],
   "source": [
    "homepage_urls = [\n",
    "    url\n",
    "    for url_text in parallel_map(\n",
    "        get_homepage_url,\n",
    "        [info['report_url'] for info in metadata]\n",
    "    )\n",
    "    for url in find_urls(url_text)\n",
    "]\n",
    "homepage_urls[:4]"
   ]
  },
  {
   "cell_type": "code",
   "execution_count": 6,
   "metadata": {},
   "outputs": [
    {
     "data": {
      "application/vnd.jupyter.widget-view+json": {
       "model_id": "c5bf4ae861bc4bc6a6f9fb0ca9b1b546",
       "version_major": 2,
       "version_minor": 0
      },
      "text/plain": [
       "HBox(children=(HTML(value=''), FloatProgress(value=0.0, max=58.0), HTML(value='')))"
      ]
     },
     "metadata": {},
     "output_type": "display_data"
    },
    {
     "name": "stdout",
     "output_type": "stream",
     "text": [
      "\n"
     ]
    },
    {
     "data": {
      "text/plain": [
       "Web with 30 sites"
      ]
     },
     "execution_count": 6,
     "metadata": {},
     "output_type": "execute_result"
    }
   ],
   "source": [
    "def get_scam_web(homepage_url):\n",
    "    return Web.from_url(homepage_url, depth=1, parallel=False)\n",
    "\n",
    "web = Web.merge(*parallel_map(\n",
    "    get_scam_web,\n",
    "    homepage_urls\n",
    "))\n",
    "web"
   ]
  },
  {
   "cell_type": "code",
   "execution_count": 7,
   "metadata": {},
   "outputs": [],
   "source": [
    "web.to_zip('./outputs/finma.gz')"
   ]
  }
 ],
 "metadata": {
  "kernelspec": {
   "display_name": "Python 3",
   "language": "python",
   "name": "python3"
  },
  "language_info": {
   "codemirror_mode": {
    "name": "ipython",
    "version": 3
   },
   "file_extension": ".py",
   "mimetype": "text/x-python",
   "name": "python",
   "nbconvert_exporter": "python",
   "pygments_lexer": "ipython3",
   "version": "3.8.6"
  },
  "widgets": {
   "application/vnd.jupyter.widget-state+json": {
    "state": {
     "04bf2077a0c543c686fc933bcc8badbd": {
      "model_module": "@jupyter-widgets/base",
      "model_module_version": "1.2.0",
      "model_name": "LayoutModel",
      "state": {}
     },
     "0d3be1fd41294d8f8ebc3f7d6f68a319": {
      "model_module": "@jupyter-widgets/controls",
      "model_module_version": "1.5.0",
      "model_name": "FloatProgressModel",
      "state": {
       "bar_style": "success",
       "layout": "IPY_MODEL_d6169800ff794cf4b8b6b340520d9c62",
       "max": 64,
       "style": "IPY_MODEL_a106e513ff3e4778b68bc343ed48bf02",
       "value": 64
      }
     },
     "0e5b8087bb084d46b52fcb69d9dee2d1": {
      "model_module": "@jupyter-widgets/controls",
      "model_module_version": "1.5.0",
      "model_name": "HTMLModel",
      "state": {
       "layout": "IPY_MODEL_f350c2b85ea842a9ba622d50118bb598",
       "style": "IPY_MODEL_95e4bc42c2b240e79c10f19b7c0e70f7",
       "value": "100%"
      }
     },
     "10541918e12a426d8b2c10dc55f68d5d": {
      "model_module": "@jupyter-widgets/base",
      "model_module_version": "1.2.0",
      "model_name": "LayoutModel",
      "state": {}
     },
     "16676ece0ff04d2aa58ba19ef58330c4": {
      "model_module": "@jupyter-widgets/controls",
      "model_module_version": "1.5.0",
      "model_name": "HTMLModel",
      "state": {
       "layout": "IPY_MODEL_e64e4f6500b64d9f978b838e108bc7d3",
       "style": "IPY_MODEL_437cc0d00ce74c6ea0ad723ba226d2dc",
       "value": " 64/64 [02:15&lt;00:00,  2.11s/it]"
      }
     },
     "17a093ed49154ac986ee8c56fad6a2ac": {
      "model_module": "@jupyter-widgets/controls",
      "model_module_version": "1.5.0",
      "model_name": "DescriptionStyleModel",
      "state": {
       "description_width": ""
      }
     },
     "1884dba760274918a295e46da9f5f4ef": {
      "model_module": "@jupyter-widgets/controls",
      "model_module_version": "1.5.0",
      "model_name": "DescriptionStyleModel",
      "state": {
       "description_width": ""
      }
     },
     "1895e1d6b38546a0a314c942e09457f9": {
      "model_module": "@jupyter-widgets/controls",
      "model_module_version": "1.5.0",
      "model_name": "HTMLModel",
      "state": {
       "layout": "IPY_MODEL_ae080145b0dd480f94ff894c31a801db",
       "style": "IPY_MODEL_e55c8c48e3a541bcae8e1e32272170e7",
       "value": " 64/64 [07:01&lt;00:00,  6.58s/it]"
      }
     },
     "19ff0208aee644aea6686374f31ce64b": {
      "model_module": "@jupyter-widgets/controls",
      "model_module_version": "1.5.0",
      "model_name": "FloatProgressModel",
      "state": {
       "bar_style": "success",
       "layout": "IPY_MODEL_1a8a4b53804e4591922d4af6199c9102",
       "max": 64,
       "style": "IPY_MODEL_794fda3896744742bad79bba4303ab7b",
       "value": 64
      }
     },
     "1a8a4b53804e4591922d4af6199c9102": {
      "model_module": "@jupyter-widgets/base",
      "model_module_version": "1.2.0",
      "model_name": "LayoutModel",
      "state": {}
     },
     "22ed813d4f9140958573b455fffa636d": {
      "model_module": "@jupyter-widgets/base",
      "model_module_version": "1.2.0",
      "model_name": "LayoutModel",
      "state": {}
     },
     "28f7e47b441b473285ac3ee5dd4bf40a": {
      "model_module": "@jupyter-widgets/controls",
      "model_module_version": "1.5.0",
      "model_name": "HBoxModel",
      "state": {
       "children": [
        "IPY_MODEL_c8e33e1f767e4d0d8fcf5b10090149e0",
        "IPY_MODEL_c3a0197232334a7fb9466a5862f8efb6",
        "IPY_MODEL_88e44f02f66c45ad81e968e054f3d3c7"
       ],
       "layout": "IPY_MODEL_22ed813d4f9140958573b455fffa636d"
      }
     },
     "312ea8fabdb94f89863db7f4ac07a2b0": {
      "model_module": "@jupyter-widgets/controls",
      "model_module_version": "1.5.0",
      "model_name": "HTMLModel",
      "state": {
       "layout": "IPY_MODEL_10541918e12a426d8b2c10dc55f68d5d",
       "style": "IPY_MODEL_c5451c508d514beeb2c769dba5ec6877",
       "value": "100%"
      }
     },
     "33533e2143b04f478801e64f5e69842b": {
      "model_module": "@jupyter-widgets/controls",
      "model_module_version": "1.5.0",
      "model_name": "ProgressStyleModel",
      "state": {
       "description_width": ""
      }
     },
     "36c772c0fb7d4a8890878b78245dd63a": {
      "model_module": "@jupyter-widgets/base",
      "model_module_version": "1.2.0",
      "model_name": "LayoutModel",
      "state": {}
     },
     "437cc0d00ce74c6ea0ad723ba226d2dc": {
      "model_module": "@jupyter-widgets/controls",
      "model_module_version": "1.5.0",
      "model_name": "DescriptionStyleModel",
      "state": {
       "description_width": ""
      }
     },
     "526fc5cde2ea47c8b674e291d699d97d": {
      "model_module": "@jupyter-widgets/controls",
      "model_module_version": "1.5.0",
      "model_name": "HBoxModel",
      "state": {
       "children": [
        "IPY_MODEL_0e5b8087bb084d46b52fcb69d9dee2d1",
        "IPY_MODEL_dbae049f654a49709649375713fab493",
        "IPY_MODEL_1895e1d6b38546a0a314c942e09457f9"
       ],
       "layout": "IPY_MODEL_6e1c4ee9d52e4b43bfa1e34640d1068b"
      }
     },
     "52a0844315e14f9987b2877e6ef13a6f": {
      "model_module": "@jupyter-widgets/controls",
      "model_module_version": "1.5.0",
      "model_name": "FloatProgressModel",
      "state": {
       "bar_style": "success",
       "layout": "IPY_MODEL_f5552f64bca64b09953c57c6d139f460",
       "max": 64,
       "style": "IPY_MODEL_f6e63b1e1d184a928728a3732d614204",
       "value": 64
      }
     },
     "58739072070e4f57b16da20b6b451ac6": {
      "model_module": "@jupyter-widgets/controls",
      "model_module_version": "1.5.0",
      "model_name": "ProgressStyleModel",
      "state": {
       "description_width": ""
      }
     },
     "5920eff47c5240f9a3d319fe583d9437": {
      "model_module": "@jupyter-widgets/base",
      "model_module_version": "1.2.0",
      "model_name": "LayoutModel",
      "state": {}
     },
     "60850cf4bdd047f0b67d14f3d1c9d932": {
      "model_module": "@jupyter-widgets/base",
      "model_module_version": "1.2.0",
      "model_name": "LayoutModel",
      "state": {}
     },
     "668d1a9609df40c68da639622c8dd748": {
      "model_module": "@jupyter-widgets/controls",
      "model_module_version": "1.5.0",
      "model_name": "DescriptionStyleModel",
      "state": {
       "description_width": ""
      }
     },
     "6695956f7717402580cb3855b7c71360": {
      "model_module": "@jupyter-widgets/controls",
      "model_module_version": "1.5.0",
      "model_name": "DescriptionStyleModel",
      "state": {
       "description_width": ""
      }
     },
     "6d9c0af7ff7140afa9323ab1d97851d6": {
      "model_module": "@jupyter-widgets/controls",
      "model_module_version": "1.5.0",
      "model_name": "HTMLModel",
      "state": {
       "layout": "IPY_MODEL_5920eff47c5240f9a3d319fe583d9437",
       "style": "IPY_MODEL_1884dba760274918a295e46da9f5f4ef",
       "value": "100%"
      }
     },
     "6e1c4ee9d52e4b43bfa1e34640d1068b": {
      "model_module": "@jupyter-widgets/base",
      "model_module_version": "1.2.0",
      "model_name": "LayoutModel",
      "state": {}
     },
     "713b96ba4c684e3c95aa8598a4bfa537": {
      "model_module": "@jupyter-widgets/base",
      "model_module_version": "1.2.0",
      "model_name": "LayoutModel",
      "state": {}
     },
     "7609b8e3e3704dbc8a7c69b870f4de5d": {
      "model_module": "@jupyter-widgets/base",
      "model_module_version": "1.2.0",
      "model_name": "LayoutModel",
      "state": {}
     },
     "794fda3896744742bad79bba4303ab7b": {
      "model_module": "@jupyter-widgets/controls",
      "model_module_version": "1.5.0",
      "model_name": "ProgressStyleModel",
      "state": {
       "description_width": ""
      }
     },
     "7e563ec9434e42f5a94eaaf7aa5a1aa9": {
      "model_module": "@jupyter-widgets/base",
      "model_module_version": "1.2.0",
      "model_name": "LayoutModel",
      "state": {}
     },
     "837811979fb34b59a8c2a1b4371064dc": {
      "model_module": "@jupyter-widgets/base",
      "model_module_version": "1.2.0",
      "model_name": "LayoutModel",
      "state": {}
     },
     "88e44f02f66c45ad81e968e054f3d3c7": {
      "model_module": "@jupyter-widgets/controls",
      "model_module_version": "1.5.0",
      "model_name": "HTMLModel",
      "state": {
       "layout": "IPY_MODEL_837811979fb34b59a8c2a1b4371064dc",
       "style": "IPY_MODEL_e199d13586ec453e9a7418f29edc7a9c",
       "value": " 58/58 [03:59&lt;00:00,  4.12s/it]"
      }
     },
     "895048ed0ee347d0b3bf30f83e647c20": {
      "model_module": "@jupyter-widgets/controls",
      "model_module_version": "1.5.0",
      "model_name": "FloatProgressModel",
      "state": {
       "bar_style": "success",
       "layout": "IPY_MODEL_9c94ea8fccce41c0a9f4924f6425094c",
       "max": 58,
       "style": "IPY_MODEL_58739072070e4f57b16da20b6b451ac6",
       "value": 58
      }
     },
     "8c41f7a6e1e04745ad7092d5e9f140d4": {
      "model_module": "@jupyter-widgets/controls",
      "model_module_version": "1.5.0",
      "model_name": "HTMLModel",
      "state": {
       "layout": "IPY_MODEL_cd93a8b0a42c49c28295d889ca5ab60e",
       "style": "IPY_MODEL_17a093ed49154ac986ee8c56fad6a2ac",
       "value": "100%"
      }
     },
     "9211a9b532c249d09bcdd67851419534": {
      "model_module": "@jupyter-widgets/controls",
      "model_module_version": "1.5.0",
      "model_name": "HTMLModel",
      "state": {
       "layout": "IPY_MODEL_04bf2077a0c543c686fc933bcc8badbd",
       "style": "IPY_MODEL_6695956f7717402580cb3855b7c71360",
       "value": " 58/58 [02:12&lt;00:00,  2.28s/it]"
      }
     },
     "95e4bc42c2b240e79c10f19b7c0e70f7": {
      "model_module": "@jupyter-widgets/controls",
      "model_module_version": "1.5.0",
      "model_name": "DescriptionStyleModel",
      "state": {
       "description_width": ""
      }
     },
     "9c94ea8fccce41c0a9f4924f6425094c": {
      "model_module": "@jupyter-widgets/base",
      "model_module_version": "1.2.0",
      "model_name": "LayoutModel",
      "state": {}
     },
     "a106e513ff3e4778b68bc343ed48bf02": {
      "model_module": "@jupyter-widgets/controls",
      "model_module_version": "1.5.0",
      "model_name": "ProgressStyleModel",
      "state": {
       "description_width": ""
      }
     },
     "a324a3c3a1bd4e7abf498bb20293b786": {
      "model_module": "@jupyter-widgets/base",
      "model_module_version": "1.2.0",
      "model_name": "LayoutModel",
      "state": {}
     },
     "ae080145b0dd480f94ff894c31a801db": {
      "model_module": "@jupyter-widgets/base",
      "model_module_version": "1.2.0",
      "model_name": "LayoutModel",
      "state": {}
     },
     "b1fec784ecf0468b92af5503eaa75fa5": {
      "model_module": "@jupyter-widgets/controls",
      "model_module_version": "1.5.0",
      "model_name": "HBoxModel",
      "state": {
       "children": [
        "IPY_MODEL_6d9c0af7ff7140afa9323ab1d97851d6",
        "IPY_MODEL_52a0844315e14f9987b2877e6ef13a6f",
        "IPY_MODEL_e5eb141ca0934726b17089d2d65c13c3"
       ],
       "layout": "IPY_MODEL_f026218683eb46f8b53e07ca4f779ef1"
      }
     },
     "b8aa6ffce5954454bb7e159c0046c222": {
      "model_module": "@jupyter-widgets/base",
      "model_module_version": "1.2.0",
      "model_name": "LayoutModel",
      "state": {}
     },
     "be1cde00c7034c0aabf88c9c94db71b9": {
      "model_module": "@jupyter-widgets/controls",
      "model_module_version": "1.5.0",
      "model_name": "HBoxModel",
      "state": {
       "children": [
        "IPY_MODEL_df658f3395374778ba2838217f1043ff",
        "IPY_MODEL_19ff0208aee644aea6686374f31ce64b",
        "IPY_MODEL_16676ece0ff04d2aa58ba19ef58330c4"
       ],
       "layout": "IPY_MODEL_b8aa6ffce5954454bb7e159c0046c222"
      }
     },
     "be4d9fee14454183bdf8fc38902bf119": {
      "model_module": "@jupyter-widgets/controls",
      "model_module_version": "1.5.0",
      "model_name": "DescriptionStyleModel",
      "state": {
       "description_width": ""
      }
     },
     "c3a0197232334a7fb9466a5862f8efb6": {
      "model_module": "@jupyter-widgets/controls",
      "model_module_version": "1.5.0",
      "model_name": "FloatProgressModel",
      "state": {
       "bar_style": "success",
       "layout": "IPY_MODEL_7609b8e3e3704dbc8a7c69b870f4de5d",
       "max": 58,
       "style": "IPY_MODEL_f05db721d3b7456e87e8efb97f56d244",
       "value": 58
      }
     },
     "c5451c508d514beeb2c769dba5ec6877": {
      "model_module": "@jupyter-widgets/controls",
      "model_module_version": "1.5.0",
      "model_name": "DescriptionStyleModel",
      "state": {
       "description_width": ""
      }
     },
     "c5bf4ae861bc4bc6a6f9fb0ca9b1b546": {
      "model_module": "@jupyter-widgets/controls",
      "model_module_version": "1.5.0",
      "model_name": "HBoxModel",
      "state": {
       "children": [
        "IPY_MODEL_312ea8fabdb94f89863db7f4ac07a2b0",
        "IPY_MODEL_895048ed0ee347d0b3bf30f83e647c20",
        "IPY_MODEL_9211a9b532c249d09bcdd67851419534"
       ],
       "layout": "IPY_MODEL_713b96ba4c684e3c95aa8598a4bfa537"
      }
     },
     "c8e33e1f767e4d0d8fcf5b10090149e0": {
      "model_module": "@jupyter-widgets/controls",
      "model_module_version": "1.5.0",
      "model_name": "HTMLModel",
      "state": {
       "layout": "IPY_MODEL_36c772c0fb7d4a8890878b78245dd63a",
       "style": "IPY_MODEL_f096600d6e62449cbcbe1e41bfe1f07f",
       "value": "100%"
      }
     },
     "ca605de712a04aa79c6d691f46786db4": {
      "model_module": "@jupyter-widgets/controls",
      "model_module_version": "1.5.0",
      "model_name": "HBoxModel",
      "state": {
       "children": [
        "IPY_MODEL_8c41f7a6e1e04745ad7092d5e9f140d4",
        "IPY_MODEL_0d3be1fd41294d8f8ebc3f7d6f68a319",
        "IPY_MODEL_cb003e859aff4335869cbadfefc3aac6"
       ],
       "layout": "IPY_MODEL_eb49f51fe54e4ee5bfafa5e0a48655b0"
      }
     },
     "cb003e859aff4335869cbadfefc3aac6": {
      "model_module": "@jupyter-widgets/controls",
      "model_module_version": "1.5.0",
      "model_name": "HTMLModel",
      "state": {
       "layout": "IPY_MODEL_a324a3c3a1bd4e7abf498bb20293b786",
       "style": "IPY_MODEL_668d1a9609df40c68da639622c8dd748",
       "value": " 64/64 [03:16&lt;00:00,  3.07s/it]"
      }
     },
     "cd93a8b0a42c49c28295d889ca5ab60e": {
      "model_module": "@jupyter-widgets/base",
      "model_module_version": "1.2.0",
      "model_name": "LayoutModel",
      "state": {}
     },
     "d6169800ff794cf4b8b6b340520d9c62": {
      "model_module": "@jupyter-widgets/base",
      "model_module_version": "1.2.0",
      "model_name": "LayoutModel",
      "state": {}
     },
     "dbae049f654a49709649375713fab493": {
      "model_module": "@jupyter-widgets/controls",
      "model_module_version": "1.5.0",
      "model_name": "FloatProgressModel",
      "state": {
       "bar_style": "success",
       "layout": "IPY_MODEL_7e563ec9434e42f5a94eaaf7aa5a1aa9",
       "max": 64,
       "style": "IPY_MODEL_33533e2143b04f478801e64f5e69842b",
       "value": 64
      }
     },
     "df658f3395374778ba2838217f1043ff": {
      "model_module": "@jupyter-widgets/controls",
      "model_module_version": "1.5.0",
      "model_name": "HTMLModel",
      "state": {
       "layout": "IPY_MODEL_60850cf4bdd047f0b67d14f3d1c9d932",
       "style": "IPY_MODEL_e738d8aea7d74b269d4409cc28b0fe1b",
       "value": "100%"
      }
     },
     "e199d13586ec453e9a7418f29edc7a9c": {
      "model_module": "@jupyter-widgets/controls",
      "model_module_version": "1.5.0",
      "model_name": "DescriptionStyleModel",
      "state": {
       "description_width": ""
      }
     },
     "e55c8c48e3a541bcae8e1e32272170e7": {
      "model_module": "@jupyter-widgets/controls",
      "model_module_version": "1.5.0",
      "model_name": "DescriptionStyleModel",
      "state": {
       "description_width": ""
      }
     },
     "e5eb141ca0934726b17089d2d65c13c3": {
      "model_module": "@jupyter-widgets/controls",
      "model_module_version": "1.5.0",
      "model_name": "HTMLModel",
      "state": {
       "layout": "IPY_MODEL_ed4184017b154772a8e3c7e1e703c3df",
       "style": "IPY_MODEL_be4d9fee14454183bdf8fc38902bf119",
       "value": " 64/64 [00:09&lt;00:00,  6.48it/s]"
      }
     },
     "e64e4f6500b64d9f978b838e108bc7d3": {
      "model_module": "@jupyter-widgets/base",
      "model_module_version": "1.2.0",
      "model_name": "LayoutModel",
      "state": {}
     },
     "e738d8aea7d74b269d4409cc28b0fe1b": {
      "model_module": "@jupyter-widgets/controls",
      "model_module_version": "1.5.0",
      "model_name": "DescriptionStyleModel",
      "state": {
       "description_width": ""
      }
     },
     "eb49f51fe54e4ee5bfafa5e0a48655b0": {
      "model_module": "@jupyter-widgets/base",
      "model_module_version": "1.2.0",
      "model_name": "LayoutModel",
      "state": {}
     },
     "ed4184017b154772a8e3c7e1e703c3df": {
      "model_module": "@jupyter-widgets/base",
      "model_module_version": "1.2.0",
      "model_name": "LayoutModel",
      "state": {}
     },
     "f026218683eb46f8b53e07ca4f779ef1": {
      "model_module": "@jupyter-widgets/base",
      "model_module_version": "1.2.0",
      "model_name": "LayoutModel",
      "state": {}
     },
     "f05db721d3b7456e87e8efb97f56d244": {
      "model_module": "@jupyter-widgets/controls",
      "model_module_version": "1.5.0",
      "model_name": "ProgressStyleModel",
      "state": {
       "description_width": ""
      }
     },
     "f096600d6e62449cbcbe1e41bfe1f07f": {
      "model_module": "@jupyter-widgets/controls",
      "model_module_version": "1.5.0",
      "model_name": "DescriptionStyleModel",
      "state": {
       "description_width": ""
      }
     },
     "f350c2b85ea842a9ba622d50118bb598": {
      "model_module": "@jupyter-widgets/base",
      "model_module_version": "1.2.0",
      "model_name": "LayoutModel",
      "state": {}
     },
     "f5552f64bca64b09953c57c6d139f460": {
      "model_module": "@jupyter-widgets/base",
      "model_module_version": "1.2.0",
      "model_name": "LayoutModel",
      "state": {}
     },
     "f6e63b1e1d184a928728a3732d614204": {
      "model_module": "@jupyter-widgets/controls",
      "model_module_version": "1.5.0",
      "model_name": "ProgressStyleModel",
      "state": {
       "description_width": ""
      }
     }
    },
    "version_major": 2,
    "version_minor": 0
   }
  }
 },
 "nbformat": 4,
 "nbformat_minor": 4
}
