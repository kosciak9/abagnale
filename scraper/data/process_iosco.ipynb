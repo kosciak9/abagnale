{
 "cells": [
  {
   "cell_type": "code",
   "execution_count": 1,
   "metadata": {},
   "outputs": [],
   "source": [
    "from bs4 import BeautifulSoup\n",
    "import pickle\n",
    "from tqdm.auto import tqdm\n",
    "from scraper import Web, Site, parallel_map\n",
    "\n",
    "import plotly.graph_objects as go"
   ]
  },
  {
   "cell_type": "code",
   "execution_count": 2,
   "metadata": {},
   "outputs": [
    {
     "data": {
      "text/plain": [
       "'<!DOCTYPE html>\\n<htm'"
      ]
     },
     "execution_count": 2,
     "metadata": {},
     "output_type": "execute_result"
    }
   ],
   "source": [
    "with open('./sources/iosco.html', 'r') as iosco_source:\n",
    "    html = iosco_source.read()\n",
    "html[:20]"
   ]
  },
  {
   "cell_type": "code",
   "execution_count": 3,
   "metadata": {},
   "outputs": [
    {
     "data": {
      "text/plain": [
       "[{'company_name': 'COOPER MARKETS s.r.o',\n",
       "  'jurisdiction': 'Czech Republic',\n",
       "  'report_date': '27 Nov 2020',\n",
       "  'report_url': 'https://www.cnb.cz/en/supervision-financial-market/consumer-protection-and-financial-literacy/consumer-protection/notices-about-activities/Notice-about-the-activities-of-COOPER-MARKETS-s.r.o./'},\n",
       " {'company_name': 'Zurich Markets Limited',\n",
       "  'jurisdiction': 'Switzerland',\n",
       "  'report_date': '27 Nov 2020',\n",
       "  'report_url': 'https://www.finma.ch/en/finma-public/warning-list/zurich-markets-limited/'},\n",
       " {'company_name': 'Inquot Investing Group',\n",
       "  'jurisdiction': 'Switzerland',\n",
       "  'report_date': '27 Nov 2020',\n",
       "  'report_url': 'https://www.finma.ch/en/finma-public/warning-list/inquot-investing-group/'},\n",
       " {'company_name': 'iAlphagroup',\n",
       "  'jurisdiction': 'Portugal',\n",
       "  'report_date': '26 Nov 2020',\n",
       "  'report_url': 'https://www.cmvm.pt/en/SDI/FinancialIntermediaries/Pages/20201126.aspx?v='}]"
      ]
     },
     "execution_count": 3,
     "metadata": {},
     "output_type": "execute_result"
    }
   ],
   "source": [
    "soup = BeautifulSoup(html, 'lxml')\n",
    "table = soup.find_all('table')[0]\n",
    "\n",
    "rows = [\n",
    "    row\n",
    "    for row in [\n",
    "        row.find_all('td')\n",
    "        for row in table.find_all('tr')\n",
    "    ]\n",
    "    if len(row) > 0\n",
    "]\n",
    "metadata = [\n",
    "    dict(\n",
    "        company_name=next(row[0].children).strip(),\n",
    "        jurisdiction=next(row[2].children).strip(),\n",
    "        report_date=next(row[3].a.children),\n",
    "        report_url=row[3].a['href'],\n",
    "    )\n",
    "    for row in rows\n",
    "]\n",
    "metadata[:4]"
   ]
  },
  {
   "cell_type": "code",
   "execution_count": 4,
   "metadata": {
    "scrolled": true
   },
   "outputs": [
    {
     "data": {
      "application/vnd.jupyter.widget-view+json": {
       "model_id": "78e64fb3171e4d48923fd500f7d712e6",
       "version_major": 2,
       "version_minor": 0
      },
      "text/plain": [
       "HBox(children=(HTML(value=''), FloatProgress(value=0.0, max=482.0), HTML(value='')))"
      ]
     },
     "metadata": {},
     "output_type": "display_data"
    },
    {
     "name": "stdout",
     "output_type": "stream",
     "text": [
      "\n"
     ]
    },
    {
     "data": {
      "text/plain": [
       "[Site at https://www.cnb.cz/en/supervision-financial-market/consumer-protection-and-financial-literacy/consumer-protection/notices-about-activities/Notice-about-the-activities-of-COOPER-MARKETS-s.r.o./ with 135 links,\n",
       " Site at https://www.finma.ch/en/finma-public/warning-list/zurich-markets-limited/ with 102 links,\n",
       " Site at https://www.finma.ch/en/finma-public/warning-list/inquot-investing-group/ with 102 links,\n",
       " Site at https://www.cmvm.pt/en/SDI/FinancialIntermediaries/Pages/20201126.aspx?v= with 99 links]"
      ]
     },
     "execution_count": 4,
     "metadata": {},
     "output_type": "execute_result"
    }
   ],
   "source": [
    "def get_site(url):\n",
    "    site = Site.from_url(url, ignore_errors=True)\n",
    "    return site\n",
    "\n",
    "report_sites = [\n",
    "    site\n",
    "    for site in parallel_map(\n",
    "        get_site,\n",
    "        [info['report_url'] for info in metadata]\n",
    "    )\n",
    "    if site is not None\n",
    "]\n",
    "report_sites[:4]"
   ]
  },
  {
   "cell_type": "code",
   "execution_count": 5,
   "metadata": {},
   "outputs": [
    {
     "data": {
      "application/vnd.jupyter.widget-view+json": {
       "model_id": "8ee4c327a8cc4dbb9cfb7eda87b6d063",
       "version_major": 2,
       "version_minor": 0
      },
      "text/plain": [
       "HBox(children=(HTML(value=''), FloatProgress(value=0.0, max=472.0), HTML(value='')))"
      ]
     },
     "metadata": {},
     "output_type": "display_data"
    },
    {
     "name": "stdout",
     "output_type": "stream",
     "text": [
      "\n"
     ]
    },
    {
     "data": {
      "text/plain": [
       "Web with 265 sites"
      ]
     },
     "execution_count": 5,
     "metadata": {},
     "output_type": "execute_result"
    }
   ],
   "source": [
    "def get_scam_web(report_site):\n",
    "    return Web.merge(*[\n",
    "        Web.from_url(link, depth=1, parallel=False)\n",
    "        for link in report_site.external_links\n",
    "    ])\n",
    "\n",
    "web = Web.merge(*parallel_map(\n",
    "    get_scam_web,\n",
    "    [\n",
    "        site\n",
    "        for site in report_sites\n",
    "        if len(site.external_links) < 64\n",
    "    ]\n",
    "))\n",
    "web"
   ]
  },
  {
   "cell_type": "markdown",
   "metadata": {},
   "source": [
    "# Limit results\n",
    "So that we fit with GitHub and Vercel memory limits"
   ]
  },
  {
   "cell_type": "code",
   "execution_count": 6,
   "metadata": {},
   "outputs": [
    {
     "data": {
      "application/vnd.jupyter.widget-view+json": {
       "model_id": "e89aab6d9c51490f8d07232224a3187e",
       "version_major": 2,
       "version_minor": 0
      },
      "text/plain": [
       "HBox(children=(HTML(value=''), FloatProgress(value=0.0, max=265.0), HTML(value='')))"
      ]
     },
     "metadata": {},
     "output_type": "display_data"
    },
    {
     "name": "stdout",
     "output_type": "stream",
     "text": [
      "\n"
     ]
    },
    {
     "data": {
      "text/plain": [
       "14"
      ]
     },
     "execution_count": 6,
     "metadata": {},
     "output_type": "execute_result"
    }
   ],
   "source": [
    "polish_sites = [site for site in tqdm(web) if site.lang == 'pl']\n",
    "len(polish_sites)"
   ]
  },
  {
   "cell_type": "code",
   "execution_count": 7,
   "metadata": {},
   "outputs": [
    {
     "data": {
      "text/plain": [
       "Web with 243 sites"
      ]
     },
     "execution_count": 7,
     "metadata": {},
     "output_type": "execute_result"
    }
   ],
   "source": [
    "num_extra_sites = max(256 - len(polish_sites), 0)\n",
    "web = Web(\n",
    "    list(web.sites)[:num_extra_sites]\n",
    "    + polish_sites\n",
    ")\n",
    "web"
   ]
  },
  {
   "cell_type": "code",
   "execution_count": 8,
   "metadata": {},
   "outputs": [],
   "source": [
    "web.to_zip('./intermediate/iosco.gz')"
   ]
  }
 ],
 "metadata": {
  "kernelspec": {
   "display_name": "Python 3",
   "language": "python",
   "name": "python3"
  },
  "language_info": {
   "codemirror_mode": {
    "name": "ipython",
    "version": 3
   },
   "file_extension": ".py",
   "mimetype": "text/x-python",
   "name": "python",
   "nbconvert_exporter": "python",
   "pygments_lexer": "ipython3",
   "version": "3.8.6"
  },
  "widgets": {
   "application/vnd.jupyter.widget-state+json": {
    "state": {
     "00087b98abce4e67981803eb0b866169": {
      "model_module": "@jupyter-widgets/controls",
      "model_module_version": "1.5.0",
      "model_name": "DescriptionStyleModel",
      "state": {
       "description_width": ""
      }
     },
     "00105c1e4834414190bb793886d32606": {
      "model_module": "@jupyter-widgets/controls",
      "model_module_version": "1.5.0",
      "model_name": "HTMLModel",
      "state": {
       "layout": "IPY_MODEL_f16bf7bf01334f5989851f15a16b9fa2",
       "style": "IPY_MODEL_dbd8ee9593e4461b90771cb373a658c0",
       "value": " 64/64 [00:04&lt;00:00, 14.92it/s]"
      }
     },
     "003f6f10c0cd4fbb8b538a7dd7bcacc8": {
      "model_module": "@jupyter-widgets/controls",
      "model_module_version": "1.5.0",
      "model_name": "FloatProgressModel",
      "state": {
       "bar_style": "success",
       "layout": "IPY_MODEL_47fe1c1b3b574a2e9fc5b9e068bfb2ec",
       "max": 64,
       "style": "IPY_MODEL_f577fb2593ab4136be2c23aa3c0766d3",
       "value": 64
      }
     },
     "039823a165f3422ca10ffdcbec90d655": {
      "model_module": "@jupyter-widgets/controls",
      "model_module_version": "1.5.0",
      "model_name": "FloatProgressModel",
      "state": {
       "bar_style": "success",
       "layout": "IPY_MODEL_ed8bf83f2fe945ebbd38cbbb14c5648a",
       "max": 1,
       "style": "IPY_MODEL_724f5b423d9445e79ffc18d2861a76ca"
      }
     },
     "03edac7faeea40f4a51ecc6b96f4fcd1": {
      "model_module": "@jupyter-widgets/controls",
      "model_module_version": "1.5.0",
      "model_name": "HBoxModel",
      "state": {
       "children": [
        "IPY_MODEL_2baec8928eee4e85be94ecc740789ea7",
        "IPY_MODEL_075f901c8f5a43da9313d95b1a722241",
        "IPY_MODEL_fbf1da6a357c4615afda911bb89ba61e"
       ],
       "layout": "IPY_MODEL_6052760e5c80464f889c0d13e29441a7"
      }
     },
     "04cb9f4c26914d439ad88901a2d5b05b": {
      "model_module": "@jupyter-widgets/base",
      "model_module_version": "1.2.0",
      "model_name": "LayoutModel",
      "state": {}
     },
     "05be649c1b5b4de690e53b0dc0dca9c5": {
      "model_module": "@jupyter-widgets/controls",
      "model_module_version": "1.5.0",
      "model_name": "FloatProgressModel",
      "state": {
       "bar_style": "success",
       "layout": "IPY_MODEL_357965fcdc954fc8b02bf334f1649aeb",
       "max": 61,
       "style": "IPY_MODEL_44fade48404c455abb22c11ce256b617",
       "value": 61
      }
     },
     "075f901c8f5a43da9313d95b1a722241": {
      "model_module": "@jupyter-widgets/controls",
      "model_module_version": "1.5.0",
      "model_name": "FloatProgressModel",
      "state": {
       "bar_style": "success",
       "layout": "IPY_MODEL_477223431399468eb5ef3bbe699f9247",
       "max": 64,
       "style": "IPY_MODEL_7484094631ba4796bcc05cfafc3b6b37",
       "value": 64
      }
     },
     "08da415c2dee4bacb5f0e7bcd92c6399": {
      "model_module": "@jupyter-widgets/controls",
      "model_module_version": "1.5.0",
      "model_name": "DescriptionStyleModel",
      "state": {
       "description_width": ""
      }
     },
     "09335450e4674416942d048e17d98231": {
      "model_module": "@jupyter-widgets/base",
      "model_module_version": "1.2.0",
      "model_name": "LayoutModel",
      "state": {}
     },
     "0aa80969f2a84089898b950feff979e0": {
      "model_module": "@jupyter-widgets/controls",
      "model_module_version": "1.5.0",
      "model_name": "HTMLModel",
      "state": {
       "layout": "IPY_MODEL_347eaa9062824644b4b86cc48ff32aea",
       "style": "IPY_MODEL_9cc64e8a14e54c0698251c8a8f1610a5",
       "value": "100%"
      }
     },
     "0afa0c6521014fad8c09cca8f95f5c88": {
      "model_module": "@jupyter-widgets/controls",
      "model_module_version": "1.5.0",
      "model_name": "DescriptionStyleModel",
      "state": {
       "description_width": ""
      }
     },
     "0cbe227a861d4bea862f371f32c0de07": {
      "model_module": "@jupyter-widgets/controls",
      "model_module_version": "1.5.0",
      "model_name": "HTMLModel",
      "state": {
       "layout": "IPY_MODEL_4aecb473a2fd4a7bbc09a6709bfca99c",
       "style": "IPY_MODEL_9913a10dac894f8282d771de22202e91",
       "value": "100%"
      }
     },
     "0e0873807fa54f449357aa5dd6bea780": {
      "model_module": "@jupyter-widgets/controls",
      "model_module_version": "1.5.0",
      "model_name": "HBoxModel",
      "state": {
       "children": [
        "IPY_MODEL_b890065f7402457d84db4d0401f45edb",
        "IPY_MODEL_e29a6e2f1aba43568be0854c8a32a569",
        "IPY_MODEL_a29a8662ba5346e9ac48e93e967eba3d"
       ],
       "layout": "IPY_MODEL_8926526cde9b4f7881718ba4fedd8bfc"
      }
     },
     "0ec0faea9514464691d18ce29094a0a7": {
      "model_module": "@jupyter-widgets/controls",
      "model_module_version": "1.5.0",
      "model_name": "DescriptionStyleModel",
      "state": {
       "description_width": ""
      }
     },
     "125a1264f0fa42d9a2b1f7fb34fa234f": {
      "model_module": "@jupyter-widgets/controls",
      "model_module_version": "1.5.0",
      "model_name": "HTMLModel",
      "state": {
       "layout": "IPY_MODEL_38ede681dc55463a8a187cde292c6e40",
       "style": "IPY_MODEL_08da415c2dee4bacb5f0e7bcd92c6399",
       "value": "100%"
      }
     },
     "17244679a8f146188aa7148f0e866d87": {
      "model_module": "@jupyter-widgets/base",
      "model_module_version": "1.2.0",
      "model_name": "LayoutModel",
      "state": {}
     },
     "1a253ef3799646d6b5b607dae8d4b1fd": {
      "model_module": "@jupyter-widgets/controls",
      "model_module_version": "1.5.0",
      "model_name": "DescriptionStyleModel",
      "state": {
       "description_width": ""
      }
     },
     "1a6ad6bdf7084e869c050968392aed27": {
      "model_module": "@jupyter-widgets/base",
      "model_module_version": "1.2.0",
      "model_name": "LayoutModel",
      "state": {}
     },
     "1db825c23616482f9afe6c3495f77f28": {
      "model_module": "@jupyter-widgets/base",
      "model_module_version": "1.2.0",
      "model_name": "LayoutModel",
      "state": {}
     },
     "202beeac95734d06b077a549a29a103d": {
      "model_module": "@jupyter-widgets/controls",
      "model_module_version": "1.5.0",
      "model_name": "HBoxModel",
      "state": {
       "children": [
        "IPY_MODEL_57a52bb1b52647fe91532211d282fa02",
        "IPY_MODEL_56e3a9657a0346c38146bf2726086153",
        "IPY_MODEL_9c94dd2d436244b2930741cd29a81313"
       ],
       "layout": "IPY_MODEL_c9a0cf0d8d2f4a5f82bff45afdac7be1"
      }
     },
     "21163464a0f1433c9e34ba3c39b9fbec": {
      "model_module": "@jupyter-widgets/controls",
      "model_module_version": "1.5.0",
      "model_name": "ProgressStyleModel",
      "state": {
       "description_width": ""
      }
     },
     "2154c509aaf44582a378e4c536748a59": {
      "model_module": "@jupyter-widgets/controls",
      "model_module_version": "1.5.0",
      "model_name": "DescriptionStyleModel",
      "state": {
       "description_width": ""
      }
     },
     "223cd139885a4ee98d98e88605a3fb6a": {
      "model_module": "@jupyter-widgets/controls",
      "model_module_version": "1.5.0",
      "model_name": "DescriptionStyleModel",
      "state": {
       "description_width": ""
      }
     },
     "231da099b1a54dbcadf99001f29bf61e": {
      "model_module": "@jupyter-widgets/controls",
      "model_module_version": "1.5.0",
      "model_name": "DescriptionStyleModel",
      "state": {
       "description_width": ""
      }
     },
     "23a114fb63904798913f3b5606b650d9": {
      "model_module": "@jupyter-widgets/controls",
      "model_module_version": "1.5.0",
      "model_name": "DescriptionStyleModel",
      "state": {
       "description_width": ""
      }
     },
     "264695782cb24b1db44b5c8b22798c4f": {
      "model_module": "@jupyter-widgets/base",
      "model_module_version": "1.2.0",
      "model_name": "LayoutModel",
      "state": {}
     },
     "27a1776c90c24d5da7449c365cd84277": {
      "model_module": "@jupyter-widgets/controls",
      "model_module_version": "1.5.0",
      "model_name": "HBoxModel",
      "state": {
       "children": [
        "IPY_MODEL_0cbe227a861d4bea862f371f32c0de07",
        "IPY_MODEL_05be649c1b5b4de690e53b0dc0dca9c5",
        "IPY_MODEL_29b6408f6e8542a39cc73980e34a0feb"
       ],
       "layout": "IPY_MODEL_f37ff103ad0340bca7ab6aa4a487328a"
      }
     },
     "280400f7484c4f2c8839157da6c33527": {
      "model_module": "@jupyter-widgets/controls",
      "model_module_version": "1.5.0",
      "model_name": "ProgressStyleModel",
      "state": {
       "description_width": ""
      }
     },
     "29b6408f6e8542a39cc73980e34a0feb": {
      "model_module": "@jupyter-widgets/controls",
      "model_module_version": "1.5.0",
      "model_name": "HTMLModel",
      "state": {
       "layout": "IPY_MODEL_ae9a4914203d441cade19053dd5835dc",
       "style": "IPY_MODEL_23a114fb63904798913f3b5606b650d9",
       "value": " 61/61 [00:26&lt;00:00,  2.34it/s]"
      }
     },
     "2baec8928eee4e85be94ecc740789ea7": {
      "model_module": "@jupyter-widgets/controls",
      "model_module_version": "1.5.0",
      "model_name": "HTMLModel",
      "state": {
       "layout": "IPY_MODEL_497aaa765fd3426686a8557416ca83df",
       "style": "IPY_MODEL_52cd0fd2bf864841ac793635f381be03",
       "value": "100%"
      }
     },
     "2bda246c7fc54588abd6f9b06c31e3b6": {
      "model_module": "@jupyter-widgets/base",
      "model_module_version": "1.2.0",
      "model_name": "LayoutModel",
      "state": {}
     },
     "2ccbf0a5186846448c9c68a12e3e088d": {
      "model_module": "@jupyter-widgets/base",
      "model_module_version": "1.2.0",
      "model_name": "LayoutModel",
      "state": {}
     },
     "312cf12ca9af4f5cb8c9e9bae037a24a": {
      "model_module": "@jupyter-widgets/controls",
      "model_module_version": "1.5.0",
      "model_name": "HBoxModel",
      "state": {
       "children": [
        "IPY_MODEL_fbc7f238d1d84a149445c339b9bce539",
        "IPY_MODEL_003f6f10c0cd4fbb8b538a7dd7bcacc8",
        "IPY_MODEL_64bfe526a6de429ca8799f748925b609"
       ],
       "layout": "IPY_MODEL_a67b8d7c800b4f22af741f1ddacd84bc"
      }
     },
     "327a67c785aa404eb6eccb2b949b47f3": {
      "model_module": "@jupyter-widgets/controls",
      "model_module_version": "1.5.0",
      "model_name": "DescriptionStyleModel",
      "state": {
       "description_width": ""
      }
     },
     "347eaa9062824644b4b86cc48ff32aea": {
      "model_module": "@jupyter-widgets/base",
      "model_module_version": "1.2.0",
      "model_name": "LayoutModel",
      "state": {}
     },
     "3574d78d60b64f438af11b0817e7edc5": {
      "model_module": "@jupyter-widgets/controls",
      "model_module_version": "1.5.0",
      "model_name": "FloatProgressModel",
      "state": {
       "bar_style": "success",
       "layout": "IPY_MODEL_dde9b14b37ff47448401dcf770d78962",
       "max": 64,
       "style": "IPY_MODEL_6794123098644d699a6fc37a3bb91102",
       "value": 64
      }
     },
     "357965fcdc954fc8b02bf334f1649aeb": {
      "model_module": "@jupyter-widgets/base",
      "model_module_version": "1.2.0",
      "model_name": "LayoutModel",
      "state": {}
     },
     "38ede681dc55463a8a187cde292c6e40": {
      "model_module": "@jupyter-widgets/base",
      "model_module_version": "1.2.0",
      "model_name": "LayoutModel",
      "state": {}
     },
     "39c54a1fa1c7416cac7c48d4405a7c99": {
      "model_module": "@jupyter-widgets/base",
      "model_module_version": "1.2.0",
      "model_name": "LayoutModel",
      "state": {}
     },
     "3c1fc6206f7c436d971cf38327c75863": {
      "model_module": "@jupyter-widgets/controls",
      "model_module_version": "1.5.0",
      "model_name": "HTMLModel",
      "state": {
       "layout": "IPY_MODEL_f4c99977a33c4bbdacdc048a04bea143",
       "style": "IPY_MODEL_b223f41e94f3438c8cebd04a1406675f",
       "value": "100%"
      }
     },
     "3ec237dc6f164e8b8e8872315305f1c1": {
      "model_module": "@jupyter-widgets/controls",
      "model_module_version": "1.5.0",
      "model_name": "FloatProgressModel",
      "state": {
       "bar_style": "success",
       "layout": "IPY_MODEL_6a6bebb619e644ae93d6bd70c7294967",
       "max": 265,
       "style": "IPY_MODEL_98347b36f49e473fbf03e5c04f9282b8",
       "value": 265
      }
     },
     "410a2ed3ed9f4252b00d007fe7aabbcc": {
      "model_module": "@jupyter-widgets/controls",
      "model_module_version": "1.5.0",
      "model_name": "DescriptionStyleModel",
      "state": {
       "description_width": ""
      }
     },
     "426a73be42b04c708e68f0231c2e9426": {
      "model_module": "@jupyter-widgets/controls",
      "model_module_version": "1.5.0",
      "model_name": "HTMLModel",
      "state": {
       "layout": "IPY_MODEL_1a6ad6bdf7084e869c050968392aed27",
       "style": "IPY_MODEL_9b27001c15ea4ca0b932c7aa02121088",
       "value": " 64/64 [00:07&lt;00:00,  8.53it/s]"
      }
     },
     "44fade48404c455abb22c11ce256b617": {
      "model_module": "@jupyter-widgets/controls",
      "model_module_version": "1.5.0",
      "model_name": "ProgressStyleModel",
      "state": {
       "description_width": ""
      }
     },
     "458ef0753cfd4e6eb37fcc5667d304b1": {
      "model_module": "@jupyter-widgets/controls",
      "model_module_version": "1.5.0",
      "model_name": "DescriptionStyleModel",
      "state": {
       "description_width": ""
      }
     },
     "477223431399468eb5ef3bbe699f9247": {
      "model_module": "@jupyter-widgets/base",
      "model_module_version": "1.2.0",
      "model_name": "LayoutModel",
      "state": {}
     },
     "47fe1c1b3b574a2e9fc5b9e068bfb2ec": {
      "model_module": "@jupyter-widgets/base",
      "model_module_version": "1.2.0",
      "model_name": "LayoutModel",
      "state": {}
     },
     "48ea6c80101346e58297dc555fdd55b1": {
      "model_module": "@jupyter-widgets/base",
      "model_module_version": "1.2.0",
      "model_name": "LayoutModel",
      "state": {}
     },
     "497aaa765fd3426686a8557416ca83df": {
      "model_module": "@jupyter-widgets/base",
      "model_module_version": "1.2.0",
      "model_name": "LayoutModel",
      "state": {}
     },
     "4a14f64f964045fc8487e95bf97cd37e": {
      "model_module": "@jupyter-widgets/base",
      "model_module_version": "1.2.0",
      "model_name": "LayoutModel",
      "state": {}
     },
     "4aecb473a2fd4a7bbc09a6709bfca99c": {
      "model_module": "@jupyter-widgets/base",
      "model_module_version": "1.2.0",
      "model_name": "LayoutModel",
      "state": {}
     },
     "4c040f7d4c044cac87be7122d31dbe83": {
      "model_module": "@jupyter-widgets/base",
      "model_module_version": "1.2.0",
      "model_name": "LayoutModel",
      "state": {}
     },
     "4c420b31d95445088c4806701651f4b4": {
      "model_module": "@jupyter-widgets/controls",
      "model_module_version": "1.5.0",
      "model_name": "HTMLModel",
      "state": {
       "layout": "IPY_MODEL_48ea6c80101346e58297dc555fdd55b1",
       "style": "IPY_MODEL_957086b82e1e4e53b7fc6fdc25903317",
       "value": "100%"
      }
     },
     "4c8e9d082a9d40fab494bef5afed0d93": {
      "model_module": "@jupyter-widgets/controls",
      "model_module_version": "1.5.0",
      "model_name": "DescriptionStyleModel",
      "state": {
       "description_width": ""
      }
     },
     "4cff4aa098e44dd2a3d86f55724d62e3": {
      "model_module": "@jupyter-widgets/controls",
      "model_module_version": "1.5.0",
      "model_name": "HTMLModel",
      "state": {
       "layout": "IPY_MODEL_fe0454f203da4e149eeefe1bee0ee676",
       "style": "IPY_MODEL_e3e210eb76ae4808a8a734868367ddf0",
       "value": " 472/472 [12:48&lt;00:00,  1.63s/it]"
      }
     },
     "4d68dfe5bed74d3c80159aa3a3afe54e": {
      "model_module": "@jupyter-widgets/controls",
      "model_module_version": "1.5.0",
      "model_name": "FloatProgressModel",
      "state": {
       "bar_style": "success",
       "layout": "IPY_MODEL_cdda5ada097a4257a29e055753c8644c",
       "max": 472,
       "style": "IPY_MODEL_a483a9fb2f594a77a692f7e5f753d6ea",
       "value": 472
      }
     },
     "4fea39d0e00242dc809c324b275d92f8": {
      "model_module": "@jupyter-widgets/base",
      "model_module_version": "1.2.0",
      "model_name": "LayoutModel",
      "state": {}
     },
     "4fef39d425fa4705bc49e36bce02af73": {
      "model_module": "@jupyter-widgets/base",
      "model_module_version": "1.2.0",
      "model_name": "LayoutModel",
      "state": {}
     },
     "500966cdfd544163809b838cc2c31333": {
      "model_module": "@jupyter-widgets/controls",
      "model_module_version": "1.5.0",
      "model_name": "HTMLModel",
      "state": {
       "layout": "IPY_MODEL_4c040f7d4c044cac87be7122d31dbe83",
       "style": "IPY_MODEL_a11f66602e534aeeb2fd4118082868e3"
      }
     },
     "506cb173932f46f886cbef57fa996170": {
      "model_module": "@jupyter-widgets/base",
      "model_module_version": "1.2.0",
      "model_name": "LayoutModel",
      "state": {}
     },
     "51c701bf655f4b238a9fbcba64749a73": {
      "model_module": "@jupyter-widgets/controls",
      "model_module_version": "1.5.0",
      "model_name": "HBoxModel",
      "state": {
       "children": [
        "IPY_MODEL_4c420b31d95445088c4806701651f4b4",
        "IPY_MODEL_e12c40b64295469b9b0f7cad6068c843",
        "IPY_MODEL_d117d5aac5fe4cdeb81d7cf02de5c8da"
       ],
       "layout": "IPY_MODEL_4fef39d425fa4705bc49e36bce02af73"
      }
     },
     "52cd0fd2bf864841ac793635f381be03": {
      "model_module": "@jupyter-widgets/controls",
      "model_module_version": "1.5.0",
      "model_name": "DescriptionStyleModel",
      "state": {
       "description_width": ""
      }
     },
     "52eeba959d174ce8adea2015d93ab0c0": {
      "model_module": "@jupyter-widgets/base",
      "model_module_version": "1.2.0",
      "model_name": "LayoutModel",
      "state": {}
     },
     "5530cb4c4d994802a5b62d29d0aa6eca": {
      "model_module": "@jupyter-widgets/base",
      "model_module_version": "1.2.0",
      "model_name": "LayoutModel",
      "state": {}
     },
     "55872197c1764865a11cc45bad6647a4": {
      "model_module": "@jupyter-widgets/controls",
      "model_module_version": "1.5.0",
      "model_name": "DescriptionStyleModel",
      "state": {
       "description_width": ""
      }
     },
     "55b5c20b38004abeaaf1964cea1d8648": {
      "model_module": "@jupyter-widgets/controls",
      "model_module_version": "1.5.0",
      "model_name": "HTMLModel",
      "state": {
       "layout": "IPY_MODEL_1db825c23616482f9afe6c3495f77f28",
       "style": "IPY_MODEL_7cfe1d46ea9244b5a805aed8ad5a2169",
       "value": "100%"
      }
     },
     "56e3a9657a0346c38146bf2726086153": {
      "model_module": "@jupyter-widgets/controls",
      "model_module_version": "1.5.0",
      "model_name": "FloatProgressModel",
      "state": {
       "bar_style": "success",
       "layout": "IPY_MODEL_98187fe0a5834d35b6d4865c47827434",
       "max": 64,
       "style": "IPY_MODEL_7bb6dd0b9f87419ba95bec85fff2c090",
       "value": 64
      }
     },
     "57a52bb1b52647fe91532211d282fa02": {
      "model_module": "@jupyter-widgets/controls",
      "model_module_version": "1.5.0",
      "model_name": "HTMLModel",
      "state": {
       "layout": "IPY_MODEL_bc839dc2b8654eb69807b901f6005fa4",
       "style": "IPY_MODEL_4c8e9d082a9d40fab494bef5afed0d93",
       "value": "100%"
      }
     },
     "592447cc3ea247458e785ca83f01910e": {
      "model_module": "@jupyter-widgets/controls",
      "model_module_version": "1.5.0",
      "model_name": "ProgressStyleModel",
      "state": {
       "description_width": ""
      }
     },
     "5b1f4ffac30a4ce78952fe237dc452b4": {
      "model_module": "@jupyter-widgets/controls",
      "model_module_version": "1.5.0",
      "model_name": "DescriptionStyleModel",
      "state": {
       "description_width": ""
      }
     },
     "6052760e5c80464f889c0d13e29441a7": {
      "model_module": "@jupyter-widgets/base",
      "model_module_version": "1.2.0",
      "model_name": "LayoutModel",
      "state": {}
     },
     "6173f2742ea143d1b74c5ed8495420f6": {
      "model_module": "@jupyter-widgets/controls",
      "model_module_version": "1.5.0",
      "model_name": "FloatProgressModel",
      "state": {
       "bar_style": "success",
       "layout": "IPY_MODEL_87554648fc144c4db25b1a747332a0cb",
       "max": 64,
       "style": "IPY_MODEL_592447cc3ea247458e785ca83f01910e",
       "value": 64
      }
     },
     "628bfaed133046adb991f7e9bd0eedf2": {
      "model_module": "@jupyter-widgets/controls",
      "model_module_version": "1.5.0",
      "model_name": "DescriptionStyleModel",
      "state": {
       "description_width": ""
      }
     },
     "64bfe526a6de429ca8799f748925b609": {
      "model_module": "@jupyter-widgets/controls",
      "model_module_version": "1.5.0",
      "model_name": "HTMLModel",
      "state": {
       "layout": "IPY_MODEL_7e22a4497f624e67b1e2aa9e1e3ece97",
       "style": "IPY_MODEL_78be3fe6657549b6a37fbab7bafa4a94",
       "value": " 64/64 [10:24&lt;00:00,  9.75s/it]"
      }
     },
     "64e0fdf8c4c74c10b264e4fe1e86d6da": {
      "model_module": "@jupyter-widgets/controls",
      "model_module_version": "1.5.0",
      "model_name": "DescriptionStyleModel",
      "state": {
       "description_width": ""
      }
     },
     "6598d5b74a374f9a8463d7b311256dce": {
      "model_module": "@jupyter-widgets/controls",
      "model_module_version": "1.5.0",
      "model_name": "ProgressStyleModel",
      "state": {
       "description_width": ""
      }
     },
     "65b0a2958468413ebdbc8c2f5a4b2461": {
      "model_module": "@jupyter-widgets/controls",
      "model_module_version": "1.5.0",
      "model_name": "HTMLModel",
      "state": {
       "layout": "IPY_MODEL_4a14f64f964045fc8487e95bf97cd37e",
       "style": "IPY_MODEL_327a67c785aa404eb6eccb2b949b47f3",
       "value": "100%"
      }
     },
     "66cea70c3c7f4cc1aeeab1a7b725b4e0": {
      "model_module": "@jupyter-widgets/base",
      "model_module_version": "1.2.0",
      "model_name": "LayoutModel",
      "state": {}
     },
     "6794123098644d699a6fc37a3bb91102": {
      "model_module": "@jupyter-widgets/controls",
      "model_module_version": "1.5.0",
      "model_name": "ProgressStyleModel",
      "state": {
       "description_width": ""
      }
     },
     "6a6bebb619e644ae93d6bd70c7294967": {
      "model_module": "@jupyter-widgets/base",
      "model_module_version": "1.2.0",
      "model_name": "LayoutModel",
      "state": {}
     },
     "6d1635442f4248e38e925e723cbf44fd": {
      "model_module": "@jupyter-widgets/controls",
      "model_module_version": "1.5.0",
      "model_name": "ProgressStyleModel",
      "state": {
       "description_width": ""
      }
     },
     "6ed16f1e2ee14c39ab8606ad9422dd9f": {
      "model_module": "@jupyter-widgets/base",
      "model_module_version": "1.2.0",
      "model_name": "LayoutModel",
      "state": {}
     },
     "724f5b423d9445e79ffc18d2861a76ca": {
      "model_module": "@jupyter-widgets/controls",
      "model_module_version": "1.5.0",
      "model_name": "ProgressStyleModel",
      "state": {
       "description_width": ""
      }
     },
     "72720ac0d4c247e889d242872a0d6c1f": {
      "model_module": "@jupyter-widgets/controls",
      "model_module_version": "1.5.0",
      "model_name": "HTMLModel",
      "state": {
       "layout": "IPY_MODEL_2ccbf0a5186846448c9c68a12e3e088d",
       "style": "IPY_MODEL_2154c509aaf44582a378e4c536748a59",
       "value": " 64/64 [00:41&lt;00:00,  1.54it/s]"
      }
     },
     "73b3ebe1a1e84c1d92347800c50a520f": {
      "model_module": "@jupyter-widgets/base",
      "model_module_version": "1.2.0",
      "model_name": "LayoutModel",
      "state": {}
     },
     "740a37b616d44e61995fa0b6f55ef08f": {
      "model_module": "@jupyter-widgets/controls",
      "model_module_version": "1.5.0",
      "model_name": "FloatProgressModel",
      "state": {
       "bar_style": "success",
       "layout": "IPY_MODEL_04cb9f4c26914d439ad88901a2d5b05b",
       "max": 482,
       "style": "IPY_MODEL_938d42abcd804ca0b1798aea7c1f6124",
       "value": 482
      }
     },
     "7423fa8a3f074022b9561eb4fa02c0e8": {
      "model_module": "@jupyter-widgets/controls",
      "model_module_version": "1.5.0",
      "model_name": "HTMLModel",
      "state": {
       "layout": "IPY_MODEL_8277baa85ac3400b957e694c2fd7cf7c",
       "style": "IPY_MODEL_0ec0faea9514464691d18ce29094a0a7",
       "value": " 64/64 [00:03&lt;00:00, 16.30it/s]"
      }
     },
     "7484094631ba4796bcc05cfafc3b6b37": {
      "model_module": "@jupyter-widgets/controls",
      "model_module_version": "1.5.0",
      "model_name": "ProgressStyleModel",
      "state": {
       "description_width": ""
      }
     },
     "74c0628737634e16b3a729dd58b3c8bb": {
      "model_module": "@jupyter-widgets/base",
      "model_module_version": "1.2.0",
      "model_name": "LayoutModel",
      "state": {}
     },
     "773316a65aad447ea44466d6c8e02686": {
      "model_module": "@jupyter-widgets/controls",
      "model_module_version": "1.5.0",
      "model_name": "FloatProgressModel",
      "state": {
       "bar_style": "success",
       "layout": "IPY_MODEL_6ed16f1e2ee14c39ab8606ad9422dd9f",
       "max": 64,
       "style": "IPY_MODEL_6598d5b74a374f9a8463d7b311256dce",
       "value": 64
      }
     },
     "773a98058e914f81847491e180f65d0f": {
      "model_module": "@jupyter-widgets/controls",
      "model_module_version": "1.5.0",
      "model_name": "HTMLModel",
      "state": {
       "layout": "IPY_MODEL_5530cb4c4d994802a5b62d29d0aa6eca",
       "style": "IPY_MODEL_f4fb2505e3eb4d70801b394a489ff668",
       "value": "0it [00:08, ?it/s]"
      }
     },
     "78be3fe6657549b6a37fbab7bafa4a94": {
      "model_module": "@jupyter-widgets/controls",
      "model_module_version": "1.5.0",
      "model_name": "DescriptionStyleModel",
      "state": {
       "description_width": ""
      }
     },
     "78e64fb3171e4d48923fd500f7d712e6": {
      "model_module": "@jupyter-widgets/controls",
      "model_module_version": "1.5.0",
      "model_name": "HBoxModel",
      "state": {
       "children": [
        "IPY_MODEL_3c1fc6206f7c436d971cf38327c75863",
        "IPY_MODEL_740a37b616d44e61995fa0b6f55ef08f",
        "IPY_MODEL_92e0525809264c5e870733dc5dca62a9"
       ],
       "layout": "IPY_MODEL_09335450e4674416942d048e17d98231"
      }
     },
     "7bb6dd0b9f87419ba95bec85fff2c090": {
      "model_module": "@jupyter-widgets/controls",
      "model_module_version": "1.5.0",
      "model_name": "ProgressStyleModel",
      "state": {
       "description_width": ""
      }
     },
     "7c9bd54db9a4431d80565f10a93bfe31": {
      "model_module": "@jupyter-widgets/base",
      "model_module_version": "1.2.0",
      "model_name": "LayoutModel",
      "state": {}
     },
     "7cfe1d46ea9244b5a805aed8ad5a2169": {
      "model_module": "@jupyter-widgets/controls",
      "model_module_version": "1.5.0",
      "model_name": "DescriptionStyleModel",
      "state": {
       "description_width": ""
      }
     },
     "7e22a4497f624e67b1e2aa9e1e3ece97": {
      "model_module": "@jupyter-widgets/base",
      "model_module_version": "1.2.0",
      "model_name": "LayoutModel",
      "state": {}
     },
     "8277baa85ac3400b957e694c2fd7cf7c": {
      "model_module": "@jupyter-widgets/base",
      "model_module_version": "1.2.0",
      "model_name": "LayoutModel",
      "state": {}
     },
     "831295954c9044f5bd9d4b9c21d840f3": {
      "model_module": "@jupyter-widgets/base",
      "model_module_version": "1.2.0",
      "model_name": "LayoutModel",
      "state": {}
     },
     "87554648fc144c4db25b1a747332a0cb": {
      "model_module": "@jupyter-widgets/base",
      "model_module_version": "1.2.0",
      "model_name": "LayoutModel",
      "state": {}
     },
     "88b544eb69414d109601b8045c3d38d9": {
      "model_module": "@jupyter-widgets/base",
      "model_module_version": "1.2.0",
      "model_name": "LayoutModel",
      "state": {}
     },
     "8926526cde9b4f7881718ba4fedd8bfc": {
      "model_module": "@jupyter-widgets/base",
      "model_module_version": "1.2.0",
      "model_name": "LayoutModel",
      "state": {}
     },
     "8a224bfba7014da499a7b9e1517fa84a": {
      "model_module": "@jupyter-widgets/controls",
      "model_module_version": "1.5.0",
      "model_name": "HBoxModel",
      "state": {
       "children": [
        "IPY_MODEL_65b0a2958468413ebdbc8c2f5a4b2461",
        "IPY_MODEL_6173f2742ea143d1b74c5ed8495420f6",
        "IPY_MODEL_72720ac0d4c247e889d242872a0d6c1f"
       ],
       "layout": "IPY_MODEL_f9fcb718715d4b908be75f5de02f97ab"
      }
     },
     "8b8ac3df842140fbb9fa2eb0112a731f": {
      "model_module": "@jupyter-widgets/controls",
      "model_module_version": "1.5.0",
      "model_name": "FloatProgressModel",
      "state": {
       "bar_style": "success",
       "layout": "IPY_MODEL_a9a7796a9cd04caeb403ded2de206877",
       "max": 64,
       "style": "IPY_MODEL_21163464a0f1433c9e34ba3c39b9fbec",
       "value": 64
      }
     },
     "8c698cd2f10b4a0380f5c89686972003": {
      "model_module": "@jupyter-widgets/controls",
      "model_module_version": "1.5.0",
      "model_name": "DescriptionStyleModel",
      "state": {
       "description_width": ""
      }
     },
     "8eaebf6cc59b468e8d41ac7b7aabe2b9": {
      "model_module": "@jupyter-widgets/controls",
      "model_module_version": "1.5.0",
      "model_name": "HTMLModel",
      "state": {
       "layout": "IPY_MODEL_73b3ebe1a1e84c1d92347800c50a520f",
       "style": "IPY_MODEL_64e0fdf8c4c74c10b264e4fe1e86d6da",
       "value": "100%"
      }
     },
     "8ee4c327a8cc4dbb9cfb7eda87b6d063": {
      "model_module": "@jupyter-widgets/controls",
      "model_module_version": "1.5.0",
      "model_name": "HBoxModel",
      "state": {
       "children": [
        "IPY_MODEL_125a1264f0fa42d9a2b1f7fb34fa234f",
        "IPY_MODEL_4d68dfe5bed74d3c80159aa3a3afe54e",
        "IPY_MODEL_4cff4aa098e44dd2a3d86f55724d62e3"
       ],
       "layout": "IPY_MODEL_dd7bd633a3174c3b90b21263a7ba6527"
      }
     },
     "8eea0c9589ef43ea96d56d953f6ea168": {
      "model_module": "@jupyter-widgets/controls",
      "model_module_version": "1.5.0",
      "model_name": "HBoxModel",
      "state": {
       "children": [
        "IPY_MODEL_ea0539df7e9a4c06ba492f1700692a81",
        "IPY_MODEL_8b8ac3df842140fbb9fa2eb0112a731f",
        "IPY_MODEL_a4e3664b2ae14cea904fa86099c080ac"
       ],
       "layout": "IPY_MODEL_dd87eec978314c11975340f7cafce9fb"
      }
     },
     "8f08f7231c574f23a7077b5ac21eb124": {
      "model_module": "@jupyter-widgets/controls",
      "model_module_version": "1.5.0",
      "model_name": "FloatProgressModel",
      "state": {
       "bar_style": "success",
       "layout": "IPY_MODEL_7c9bd54db9a4431d80565f10a93bfe31",
       "max": 64,
       "style": "IPY_MODEL_b7f0c686bc704069b4c5f693d7cce991",
       "value": 64
      }
     },
     "9162f807f95c448296576eaf77c0682c": {
      "model_module": "@jupyter-widgets/base",
      "model_module_version": "1.2.0",
      "model_name": "LayoutModel",
      "state": {}
     },
     "92e0525809264c5e870733dc5dca62a9": {
      "model_module": "@jupyter-widgets/controls",
      "model_module_version": "1.5.0",
      "model_name": "HTMLModel",
      "state": {
       "layout": "IPY_MODEL_831295954c9044f5bd9d4b9c21d840f3",
       "style": "IPY_MODEL_ae6a75bd2c374a94b5acb01ecd6a6b56",
       "value": " 482/482 [00:13&lt;00:00, 36.97it/s]"
      }
     },
     "938d42abcd804ca0b1798aea7c1f6124": {
      "model_module": "@jupyter-widgets/controls",
      "model_module_version": "1.5.0",
      "model_name": "ProgressStyleModel",
      "state": {
       "description_width": ""
      }
     },
     "94d4ee9f7777454dba4185c66289e1e3": {
      "model_module": "@jupyter-widgets/controls",
      "model_module_version": "1.5.0",
      "model_name": "HBoxModel",
      "state": {
       "children": [
        "IPY_MODEL_0aa80969f2a84089898b950feff979e0",
        "IPY_MODEL_3574d78d60b64f438af11b0817e7edc5",
        "IPY_MODEL_c2b15d5491f94510815e13f063a257ed"
       ],
       "layout": "IPY_MODEL_c6974e0912d641d4bd723e9537a60353"
      }
     },
     "957086b82e1e4e53b7fc6fdc25903317": {
      "model_module": "@jupyter-widgets/controls",
      "model_module_version": "1.5.0",
      "model_name": "DescriptionStyleModel",
      "state": {
       "description_width": ""
      }
     },
     "98187fe0a5834d35b6d4865c47827434": {
      "model_module": "@jupyter-widgets/base",
      "model_module_version": "1.2.0",
      "model_name": "LayoutModel",
      "state": {}
     },
     "98347b36f49e473fbf03e5c04f9282b8": {
      "model_module": "@jupyter-widgets/controls",
      "model_module_version": "1.5.0",
      "model_name": "ProgressStyleModel",
      "state": {
       "description_width": ""
      }
     },
     "9913a10dac894f8282d771de22202e91": {
      "model_module": "@jupyter-widgets/controls",
      "model_module_version": "1.5.0",
      "model_name": "DescriptionStyleModel",
      "state": {
       "description_width": ""
      }
     },
     "9b27001c15ea4ca0b932c7aa02121088": {
      "model_module": "@jupyter-widgets/controls",
      "model_module_version": "1.5.0",
      "model_name": "DescriptionStyleModel",
      "state": {
       "description_width": ""
      }
     },
     "9c94dd2d436244b2930741cd29a81313": {
      "model_module": "@jupyter-widgets/controls",
      "model_module_version": "1.5.0",
      "model_name": "HTMLModel",
      "state": {
       "layout": "IPY_MODEL_17244679a8f146188aa7148f0e866d87",
       "style": "IPY_MODEL_55872197c1764865a11cc45bad6647a4",
       "value": " 64/64 [00:07&lt;00:00,  8.14it/s]"
      }
     },
     "9cc64e8a14e54c0698251c8a8f1610a5": {
      "model_module": "@jupyter-widgets/controls",
      "model_module_version": "1.5.0",
      "model_name": "DescriptionStyleModel",
      "state": {
       "description_width": ""
      }
     },
     "9fe7fb998a7e4577b01c0304f5147963": {
      "model_module": "@jupyter-widgets/base",
      "model_module_version": "1.2.0",
      "model_name": "LayoutModel",
      "state": {}
     },
     "a11f66602e534aeeb2fd4118082868e3": {
      "model_module": "@jupyter-widgets/controls",
      "model_module_version": "1.5.0",
      "model_name": "DescriptionStyleModel",
      "state": {
       "description_width": ""
      }
     },
     "a29a8662ba5346e9ac48e93e967eba3d": {
      "model_module": "@jupyter-widgets/controls",
      "model_module_version": "1.5.0",
      "model_name": "HTMLModel",
      "state": {
       "layout": "IPY_MODEL_c8573c70b2c9401d9c4d755a84d1ede9",
       "style": "IPY_MODEL_5b1f4ffac30a4ce78952fe237dc452b4",
       "value": " 61/61 [02:13&lt;00:00,  2.18s/it]"
      }
     },
     "a483a9fb2f594a77a692f7e5f753d6ea": {
      "model_module": "@jupyter-widgets/controls",
      "model_module_version": "1.5.0",
      "model_name": "ProgressStyleModel",
      "state": {
       "description_width": ""
      }
     },
     "a4e3664b2ae14cea904fa86099c080ac": {
      "model_module": "@jupyter-widgets/controls",
      "model_module_version": "1.5.0",
      "model_name": "HTMLModel",
      "state": {
       "layout": "IPY_MODEL_52eeba959d174ce8adea2015d93ab0c0",
       "style": "IPY_MODEL_00087b98abce4e67981803eb0b866169",
       "value": " 64/64 [02:08&lt;00:00,  2.00s/it]"
      }
     },
     "a5ed915f94844db391e189db78aab968": {
      "model_module": "@jupyter-widgets/controls",
      "model_module_version": "1.5.0",
      "model_name": "HTMLModel",
      "state": {
       "layout": "IPY_MODEL_dbcc608e682942bc98099e1aeae44424",
       "style": "IPY_MODEL_8c698cd2f10b4a0380f5c89686972003",
       "value": " 265/265 [00:07&lt;00:00, 37.48it/s]"
      }
     },
     "a67b8d7c800b4f22af741f1ddacd84bc": {
      "model_module": "@jupyter-widgets/base",
      "model_module_version": "1.2.0",
      "model_name": "LayoutModel",
      "state": {}
     },
     "a9a7796a9cd04caeb403ded2de206877": {
      "model_module": "@jupyter-widgets/base",
      "model_module_version": "1.2.0",
      "model_name": "LayoutModel",
      "state": {}
     },
     "ad1d22a397cb43aba9e1844acdf7ca43": {
      "model_module": "@jupyter-widgets/controls",
      "model_module_version": "1.5.0",
      "model_name": "HTMLModel",
      "state": {
       "layout": "IPY_MODEL_264695782cb24b1db44b5c8b22798c4f",
       "style": "IPY_MODEL_628bfaed133046adb991f7e9bd0eedf2",
       "value": "100%"
      }
     },
     "ae6a75bd2c374a94b5acb01ecd6a6b56": {
      "model_module": "@jupyter-widgets/controls",
      "model_module_version": "1.5.0",
      "model_name": "DescriptionStyleModel",
      "state": {
       "description_width": ""
      }
     },
     "ae9a4914203d441cade19053dd5835dc": {
      "model_module": "@jupyter-widgets/base",
      "model_module_version": "1.2.0",
      "model_name": "LayoutModel",
      "state": {}
     },
     "aedb4e5a37784f48af1d9b69db367703": {
      "model_module": "@jupyter-widgets/controls",
      "model_module_version": "1.5.0",
      "model_name": "DescriptionStyleModel",
      "state": {
       "description_width": ""
      }
     },
     "b223f41e94f3438c8cebd04a1406675f": {
      "model_module": "@jupyter-widgets/controls",
      "model_module_version": "1.5.0",
      "model_name": "DescriptionStyleModel",
      "state": {
       "description_width": ""
      }
     },
     "b7f0c686bc704069b4c5f693d7cce991": {
      "model_module": "@jupyter-widgets/controls",
      "model_module_version": "1.5.0",
      "model_name": "ProgressStyleModel",
      "state": {
       "description_width": ""
      }
     },
     "b890065f7402457d84db4d0401f45edb": {
      "model_module": "@jupyter-widgets/controls",
      "model_module_version": "1.5.0",
      "model_name": "HTMLModel",
      "state": {
       "layout": "IPY_MODEL_4fea39d0e00242dc809c324b275d92f8",
       "style": "IPY_MODEL_458ef0753cfd4e6eb37fcc5667d304b1",
       "value": "100%"
      }
     },
     "ba05254906314d888ff3a684d7691495": {
      "model_module": "@jupyter-widgets/controls",
      "model_module_version": "1.5.0",
      "model_name": "HBoxModel",
      "state": {
       "children": [
        "IPY_MODEL_ad1d22a397cb43aba9e1844acdf7ca43",
        "IPY_MODEL_8f08f7231c574f23a7077b5ac21eb124",
        "IPY_MODEL_426a73be42b04c708e68f0231c2e9426"
       ],
       "layout": "IPY_MODEL_9fe7fb998a7e4577b01c0304f5147963"
      }
     },
     "bc16f366055e45bca7c14ef45ae65ee5": {
      "model_module": "@jupyter-widgets/base",
      "model_module_version": "1.2.0",
      "model_name": "LayoutModel",
      "state": {}
     },
     "bc839dc2b8654eb69807b901f6005fa4": {
      "model_module": "@jupyter-widgets/base",
      "model_module_version": "1.2.0",
      "model_name": "LayoutModel",
      "state": {}
     },
     "c136850e76374f9cb4941b77d25a0de3": {
      "model_module": "@jupyter-widgets/controls",
      "model_module_version": "1.5.0",
      "model_name": "ProgressStyleModel",
      "state": {
       "description_width": ""
      }
     },
     "c20b2db57a374221859a1e8bf90aa322": {
      "model_module": "@jupyter-widgets/controls",
      "model_module_version": "1.5.0",
      "model_name": "HBoxModel",
      "state": {
       "children": [
        "IPY_MODEL_55b5c20b38004abeaaf1964cea1d8648",
        "IPY_MODEL_ce5f94f55108465faf75188a21537bde",
        "IPY_MODEL_7423fa8a3f074022b9561eb4fa02c0e8"
       ],
       "layout": "IPY_MODEL_506cb173932f46f886cbef57fa996170"
      }
     },
     "c2b15d5491f94510815e13f063a257ed": {
      "model_module": "@jupyter-widgets/controls",
      "model_module_version": "1.5.0",
      "model_name": "HTMLModel",
      "state": {
       "layout": "IPY_MODEL_39c54a1fa1c7416cac7c48d4405a7c99",
       "style": "IPY_MODEL_0afa0c6521014fad8c09cca8f95f5c88",
       "value": " 64/64 [02:01&lt;00:00,  1.91s/it]"
      }
     },
     "c378cf0c929b42f0ac6c7008f1d18ce1": {
      "model_module": "@jupyter-widgets/base",
      "model_module_version": "1.2.0",
      "model_name": "LayoutModel",
      "state": {}
     },
     "c6974e0912d641d4bd723e9537a60353": {
      "model_module": "@jupyter-widgets/base",
      "model_module_version": "1.2.0",
      "model_name": "LayoutModel",
      "state": {}
     },
     "c8573c70b2c9401d9c4d755a84d1ede9": {
      "model_module": "@jupyter-widgets/base",
      "model_module_version": "1.2.0",
      "model_name": "LayoutModel",
      "state": {}
     },
     "c959e7d779c74a6582c6319a991a9ec3": {
      "model_module": "@jupyter-widgets/controls",
      "model_module_version": "1.5.0",
      "model_name": "HBoxModel",
      "state": {
       "children": [
        "IPY_MODEL_500966cdfd544163809b838cc2c31333",
        "IPY_MODEL_039823a165f3422ca10ffdcbec90d655",
        "IPY_MODEL_773a98058e914f81847491e180f65d0f"
       ],
       "layout": "IPY_MODEL_f6cfa42d1c1c43cdbb7e6ec6e105a321"
      }
     },
     "c9a0cf0d8d2f4a5f82bff45afdac7be1": {
      "model_module": "@jupyter-widgets/base",
      "model_module_version": "1.2.0",
      "model_name": "LayoutModel",
      "state": {}
     },
     "c9d339f098c0436e8cd9d4ffa91bb243": {
      "model_module": "@jupyter-widgets/controls",
      "model_module_version": "1.5.0",
      "model_name": "HTMLModel",
      "state": {
       "layout": "IPY_MODEL_c378cf0c929b42f0ac6c7008f1d18ce1",
       "style": "IPY_MODEL_231da099b1a54dbcadf99001f29bf61e",
       "value": "100%"
      }
     },
     "cdda5ada097a4257a29e055753c8644c": {
      "model_module": "@jupyter-widgets/base",
      "model_module_version": "1.2.0",
      "model_name": "LayoutModel",
      "state": {}
     },
     "ce5f94f55108465faf75188a21537bde": {
      "model_module": "@jupyter-widgets/controls",
      "model_module_version": "1.5.0",
      "model_name": "FloatProgressModel",
      "state": {
       "bar_style": "success",
       "layout": "IPY_MODEL_e7ba2dff33444d7584b0d98e2e3fa4f9",
       "max": 64,
       "style": "IPY_MODEL_280400f7484c4f2c8839157da6c33527",
       "value": 64
      }
     },
     "d117d5aac5fe4cdeb81d7cf02de5c8da": {
      "model_module": "@jupyter-widgets/controls",
      "model_module_version": "1.5.0",
      "model_name": "HTMLModel",
      "state": {
       "layout": "IPY_MODEL_bc16f366055e45bca7c14ef45ae65ee5",
       "style": "IPY_MODEL_410a2ed3ed9f4252b00d007fe7aabbcc",
       "value": " 61/61 [00:36&lt;00:00,  1.67it/s]"
      }
     },
     "d2a7f898fdee4f80a6e57e2cacca2858": {
      "model_module": "@jupyter-widgets/base",
      "model_module_version": "1.2.0",
      "model_name": "LayoutModel",
      "state": {}
     },
     "d56ae152e32b4e878edbb67e4fb9fbdd": {
      "model_module": "@jupyter-widgets/base",
      "model_module_version": "1.2.0",
      "model_name": "LayoutModel",
      "state": {}
     },
     "dbcc608e682942bc98099e1aeae44424": {
      "model_module": "@jupyter-widgets/base",
      "model_module_version": "1.2.0",
      "model_name": "LayoutModel",
      "state": {}
     },
     "dbd8ee9593e4461b90771cb373a658c0": {
      "model_module": "@jupyter-widgets/controls",
      "model_module_version": "1.5.0",
      "model_name": "DescriptionStyleModel",
      "state": {
       "description_width": ""
      }
     },
     "dd7bd633a3174c3b90b21263a7ba6527": {
      "model_module": "@jupyter-widgets/base",
      "model_module_version": "1.2.0",
      "model_name": "LayoutModel",
      "state": {}
     },
     "dd87eec978314c11975340f7cafce9fb": {
      "model_module": "@jupyter-widgets/base",
      "model_module_version": "1.2.0",
      "model_name": "LayoutModel",
      "state": {}
     },
     "dde9b14b37ff47448401dcf770d78962": {
      "model_module": "@jupyter-widgets/base",
      "model_module_version": "1.2.0",
      "model_name": "LayoutModel",
      "state": {}
     },
     "e12c40b64295469b9b0f7cad6068c843": {
      "model_module": "@jupyter-widgets/controls",
      "model_module_version": "1.5.0",
      "model_name": "FloatProgressModel",
      "state": {
       "bar_style": "success",
       "layout": "IPY_MODEL_d56ae152e32b4e878edbb67e4fb9fbdd",
       "max": 61,
       "style": "IPY_MODEL_c136850e76374f9cb4941b77d25a0de3",
       "value": 61
      }
     },
     "e29a6e2f1aba43568be0854c8a32a569": {
      "model_module": "@jupyter-widgets/controls",
      "model_module_version": "1.5.0",
      "model_name": "FloatProgressModel",
      "state": {
       "bar_style": "success",
       "layout": "IPY_MODEL_66cea70c3c7f4cc1aeeab1a7b725b4e0",
       "max": 61,
       "style": "IPY_MODEL_6d1635442f4248e38e925e723cbf44fd",
       "value": 61
      }
     },
     "e3e210eb76ae4808a8a734868367ddf0": {
      "model_module": "@jupyter-widgets/controls",
      "model_module_version": "1.5.0",
      "model_name": "DescriptionStyleModel",
      "state": {
       "description_width": ""
      }
     },
     "e7ba2dff33444d7584b0d98e2e3fa4f9": {
      "model_module": "@jupyter-widgets/base",
      "model_module_version": "1.2.0",
      "model_name": "LayoutModel",
      "state": {}
     },
     "e89aab6d9c51490f8d07232224a3187e": {
      "model_module": "@jupyter-widgets/controls",
      "model_module_version": "1.5.0",
      "model_name": "HBoxModel",
      "state": {
       "children": [
        "IPY_MODEL_c9d339f098c0436e8cd9d4ffa91bb243",
        "IPY_MODEL_3ec237dc6f164e8b8e8872315305f1c1",
        "IPY_MODEL_a5ed915f94844db391e189db78aab968"
       ],
       "layout": "IPY_MODEL_74c0628737634e16b3a729dd58b3c8bb"
      }
     },
     "ea0539df7e9a4c06ba492f1700692a81": {
      "model_module": "@jupyter-widgets/controls",
      "model_module_version": "1.5.0",
      "model_name": "HTMLModel",
      "state": {
       "layout": "IPY_MODEL_d2a7f898fdee4f80a6e57e2cacca2858",
       "style": "IPY_MODEL_1a253ef3799646d6b5b607dae8d4b1fd",
       "value": "100%"
      }
     },
     "ed8bf83f2fe945ebbd38cbbb14c5648a": {
      "model_module": "@jupyter-widgets/base",
      "model_module_version": "1.2.0",
      "model_name": "LayoutModel",
      "state": {
       "width": "20px"
      }
     },
     "f16bf7bf01334f5989851f15a16b9fa2": {
      "model_module": "@jupyter-widgets/base",
      "model_module_version": "1.2.0",
      "model_name": "LayoutModel",
      "state": {}
     },
     "f37ff103ad0340bca7ab6aa4a487328a": {
      "model_module": "@jupyter-widgets/base",
      "model_module_version": "1.2.0",
      "model_name": "LayoutModel",
      "state": {}
     },
     "f4c99977a33c4bbdacdc048a04bea143": {
      "model_module": "@jupyter-widgets/base",
      "model_module_version": "1.2.0",
      "model_name": "LayoutModel",
      "state": {}
     },
     "f4fb2505e3eb4d70801b394a489ff668": {
      "model_module": "@jupyter-widgets/controls",
      "model_module_version": "1.5.0",
      "model_name": "DescriptionStyleModel",
      "state": {
       "description_width": ""
      }
     },
     "f577fb2593ab4136be2c23aa3c0766d3": {
      "model_module": "@jupyter-widgets/controls",
      "model_module_version": "1.5.0",
      "model_name": "ProgressStyleModel",
      "state": {
       "description_width": ""
      }
     },
     "f5aff9a2e52246739c3a702611ffa375": {
      "model_module": "@jupyter-widgets/controls",
      "model_module_version": "1.5.0",
      "model_name": "HBoxModel",
      "state": {
       "children": [
        "IPY_MODEL_8eaebf6cc59b468e8d41ac7b7aabe2b9",
        "IPY_MODEL_773316a65aad447ea44466d6c8e02686",
        "IPY_MODEL_00105c1e4834414190bb793886d32606"
       ],
       "layout": "IPY_MODEL_2bda246c7fc54588abd6f9b06c31e3b6"
      }
     },
     "f6cfa42d1c1c43cdbb7e6ec6e105a321": {
      "model_module": "@jupyter-widgets/base",
      "model_module_version": "1.2.0",
      "model_name": "LayoutModel",
      "state": {}
     },
     "f9fcb718715d4b908be75f5de02f97ab": {
      "model_module": "@jupyter-widgets/base",
      "model_module_version": "1.2.0",
      "model_name": "LayoutModel",
      "state": {}
     },
     "fbc7f238d1d84a149445c339b9bce539": {
      "model_module": "@jupyter-widgets/controls",
      "model_module_version": "1.5.0",
      "model_name": "HTMLModel",
      "state": {
       "layout": "IPY_MODEL_9162f807f95c448296576eaf77c0682c",
       "style": "IPY_MODEL_223cd139885a4ee98d98e88605a3fb6a",
       "value": "100%"
      }
     },
     "fbf1da6a357c4615afda911bb89ba61e": {
      "model_module": "@jupyter-widgets/controls",
      "model_module_version": "1.5.0",
      "model_name": "HTMLModel",
      "state": {
       "layout": "IPY_MODEL_88b544eb69414d109601b8045c3d38d9",
       "style": "IPY_MODEL_aedb4e5a37784f48af1d9b69db367703",
       "value": " 64/64 [00:35&lt;00:00,  1.78it/s]"
      }
     },
     "fe0454f203da4e149eeefe1bee0ee676": {
      "model_module": "@jupyter-widgets/base",
      "model_module_version": "1.2.0",
      "model_name": "LayoutModel",
      "state": {}
     }
    },
    "version_major": 2,
    "version_minor": 0
   }
  }
 },
 "nbformat": 4,
 "nbformat_minor": 4
}
