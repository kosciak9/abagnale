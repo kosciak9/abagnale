{
 "cells": [
  {
   "cell_type": "code",
   "execution_count": 1,
   "metadata": {},
   "outputs": [],
   "source": [
    "from bs4 import BeautifulSoup\n",
    "from tqdm.auto import tqdm\n",
    "from scraper import Web, Site, parallel_map"
   ]
  },
  {
   "cell_type": "code",
   "execution_count": 2,
   "metadata": {},
   "outputs": [
    {
     "data": {
      "text/plain": [
       "[Site at file://./sources/searches/bitcoin.html with 45 links,\n",
       " Site at file://./sources/searches/forex.html with 43 links,\n",
       " Site at file://./sources/searches/invest.html with 42 links]"
      ]
     },
     "execution_count": 2,
     "metadata": {},
     "output_type": "execute_result"
    }
   ],
   "source": [
    "search_sites = [\n",
    "    Site.from_file('./sources/searches/bitcoin.html'),\n",
    "    Site.from_file('./sources/searches/forex.html'),\n",
    "    Site.from_file('./sources/searches/invest.html'),\n",
    "]\n",
    "search_sites"
   ]
  },
  {
   "cell_type": "code",
   "execution_count": 3,
   "metadata": {},
   "outputs": [
    {
     "data": {
      "application/vnd.jupyter.widget-view+json": {
       "model_id": "12ad1752d0464f0ea3a79482f9cb9dfa",
       "version_major": 2,
       "version_minor": 0
      },
      "text/plain": [
       "HBox(children=(HTML(value=''), FloatProgress(value=0.0, max=124.0), HTML(value='')))"
      ]
     },
     "metadata": {},
     "output_type": "display_data"
    },
    {
     "name": "stdout",
     "output_type": "stream",
     "text": [
      "\n"
     ]
    },
    {
     "data": {
      "text/plain": [
       "Web with 60 sites"
      ]
     },
     "execution_count": 3,
     "metadata": {},
     "output_type": "execute_result"
    }
   ],
   "source": [
    "def get_scam_web(link):\n",
    "    return Web.from_url(link, depth=1, parallel=False)\n",
    "\n",
    "web = Web.merge(*parallel_map(\n",
    "    get_scam_web,\n",
    "    [link for search_site in search_sites for link in search_site.external_links]\n",
    "))\n",
    "web"
   ]
  },
  {
   "cell_type": "code",
   "execution_count": 4,
   "metadata": {},
   "outputs": [],
   "source": [
    "web.to_zip('./intermediate/searches.gz')"
   ]
  }
 ],
 "metadata": {
  "kernelspec": {
   "display_name": "Python 3",
   "language": "python",
   "name": "python3"
  },
  "language_info": {
   "codemirror_mode": {
    "name": "ipython",
    "version": 3
   },
   "file_extension": ".py",
   "mimetype": "text/x-python",
   "name": "python",
   "nbconvert_exporter": "python",
   "pygments_lexer": "ipython3",
   "version": "3.8.6"
  },
  "widgets": {
   "application/vnd.jupyter.widget-state+json": {
    "state": {
     "08d09057934f45c3873e65defe9e59fd": {
      "model_module": "@jupyter-widgets/base",
      "model_module_version": "1.2.0",
      "model_name": "LayoutModel",
      "state": {}
     },
     "0add5d360bc9452b814a6c3cc0c0aca3": {
      "model_module": "@jupyter-widgets/base",
      "model_module_version": "1.2.0",
      "model_name": "LayoutModel",
      "state": {}
     },
     "0e040885ccbb47fb8576c33dd61e35ba": {
      "model_module": "@jupyter-widgets/base",
      "model_module_version": "1.2.0",
      "model_name": "LayoutModel",
      "state": {}
     },
     "0e77f97173b94172870ae7adec35e041": {
      "model_module": "@jupyter-widgets/controls",
      "model_module_version": "1.5.0",
      "model_name": "HBoxModel",
      "state": {
       "children": [
        "IPY_MODEL_d6bf652a07dd4f0d830030e2f855073f",
        "IPY_MODEL_56ca2afc879e44d6bc78a1da7ebe8dd0",
        "IPY_MODEL_ab89e850d8b3447fa5966588d0df39f5"
       ],
       "layout": "IPY_MODEL_1a38a70cbd574fbf9ca6dfc25982b92d"
      }
     },
     "118eb16f434047cd9a285ea726dd2823": {
      "model_module": "@jupyter-widgets/controls",
      "model_module_version": "1.5.0",
      "model_name": "ProgressStyleModel",
      "state": {
       "description_width": ""
      }
     },
     "12ad1752d0464f0ea3a79482f9cb9dfa": {
      "model_module": "@jupyter-widgets/controls",
      "model_module_version": "1.5.0",
      "model_name": "HBoxModel",
      "state": {
       "children": [
        "IPY_MODEL_7f3ab7cdb5a64cb78706761ed95aafe5",
        "IPY_MODEL_48979fde92e24708a9bedce9443c2acd",
        "IPY_MODEL_aec33364f4e749e190707bf15084081f"
       ],
       "layout": "IPY_MODEL_08d09057934f45c3873e65defe9e59fd"
      }
     },
     "1358c5897741458f9ed423a8c04d0bb5": {
      "model_module": "@jupyter-widgets/base",
      "model_module_version": "1.2.0",
      "model_name": "LayoutModel",
      "state": {}
     },
     "16224bb90fa44502a643070d8f79239e": {
      "model_module": "@jupyter-widgets/base",
      "model_module_version": "1.2.0",
      "model_name": "LayoutModel",
      "state": {}
     },
     "1a38a70cbd574fbf9ca6dfc25982b92d": {
      "model_module": "@jupyter-widgets/base",
      "model_module_version": "1.2.0",
      "model_name": "LayoutModel",
      "state": {}
     },
     "2101b16ab41549d88b7ad0e519726f85": {
      "model_module": "@jupyter-widgets/controls",
      "model_module_version": "1.5.0",
      "model_name": "HBoxModel",
      "state": {
       "children": [
        "IPY_MODEL_576272818d864bd19d628519541d8c4a",
        "IPY_MODEL_30afd46a185b446fa2976d7cee2c7878",
        "IPY_MODEL_35a1286c46cd4c20a0dac3cd2b6e3e01"
       ],
       "layout": "IPY_MODEL_16224bb90fa44502a643070d8f79239e"
      }
     },
     "252d78daf32245bab2a33660ec5239a8": {
      "model_module": "@jupyter-widgets/controls",
      "model_module_version": "1.5.0",
      "model_name": "FloatProgressModel",
      "state": {
       "bar_style": "success",
       "layout": "IPY_MODEL_95213c9a2aa54b8ba4eb6d02beb02a16",
       "max": 84,
       "style": "IPY_MODEL_7c889ea1914a4fda931ce541abef1adc",
       "value": 84
      }
     },
     "279e73f027a34693925174cf78894a2a": {
      "model_module": "@jupyter-widgets/controls",
      "model_module_version": "1.5.0",
      "model_name": "ProgressStyleModel",
      "state": {
       "description_width": ""
      }
     },
     "2b9425ff49a74f4c8d86f4a5e828f92f": {
      "model_module": "@jupyter-widgets/base",
      "model_module_version": "1.2.0",
      "model_name": "LayoutModel",
      "state": {}
     },
     "30afd46a185b446fa2976d7cee2c7878": {
      "model_module": "@jupyter-widgets/controls",
      "model_module_version": "1.5.0",
      "model_name": "FloatProgressModel",
      "state": {
       "bar_style": "success",
       "layout": "IPY_MODEL_a08a8d77e5514d7296bb4ee4535ffe53",
       "max": 131,
       "style": "IPY_MODEL_279e73f027a34693925174cf78894a2a",
       "value": 131
      }
     },
     "35a1286c46cd4c20a0dac3cd2b6e3e01": {
      "model_module": "@jupyter-widgets/controls",
      "model_module_version": "1.5.0",
      "model_name": "HTMLModel",
      "state": {
       "layout": "IPY_MODEL_c044d4eb81a74040973cb3b081d2cf86",
       "style": "IPY_MODEL_f8c0b1cf297f4b00ac08e883acf9cff2",
       "value": " 131/131 [02:12&lt;00:00,  1.01s/it]"
      }
     },
     "4435ec105adc43cc9b1ef0eefec89c90": {
      "model_module": "@jupyter-widgets/base",
      "model_module_version": "1.2.0",
      "model_name": "LayoutModel",
      "state": {}
     },
     "4644cf7674fd4e5b82d140846452a7e6": {
      "model_module": "@jupyter-widgets/base",
      "model_module_version": "1.2.0",
      "model_name": "LayoutModel",
      "state": {}
     },
     "48979fde92e24708a9bedce9443c2acd": {
      "model_module": "@jupyter-widgets/controls",
      "model_module_version": "1.5.0",
      "model_name": "FloatProgressModel",
      "state": {
       "bar_style": "success",
       "layout": "IPY_MODEL_d67864407eaa4b90a9ed8e4f7786b07f",
       "max": 124,
       "style": "IPY_MODEL_118eb16f434047cd9a285ea726dd2823",
       "value": 124
      }
     },
     "49392332199445b7abe6df1129079b5e": {
      "model_module": "@jupyter-widgets/controls",
      "model_module_version": "1.5.0",
      "model_name": "DescriptionStyleModel",
      "state": {
       "description_width": ""
      }
     },
     "49cfb57fb916446e959ca4e1f4f2c7d4": {
      "model_module": "@jupyter-widgets/controls",
      "model_module_version": "1.5.0",
      "model_name": "ProgressStyleModel",
      "state": {
       "description_width": ""
      }
     },
     "4d1951cd64204ac1b405ed0d8d2112d9": {
      "model_module": "@jupyter-widgets/controls",
      "model_module_version": "1.5.0",
      "model_name": "DescriptionStyleModel",
      "state": {
       "description_width": ""
      }
     },
     "4d3110c95fe340cf81bbc88d475e7eb8": {
      "model_module": "@jupyter-widgets/controls",
      "model_module_version": "1.5.0",
      "model_name": "HTMLModel",
      "state": {
       "layout": "IPY_MODEL_ee66265a561b4e9db51f22336576b323",
       "style": "IPY_MODEL_b91bd64655bd4c93baedf96a707077d2",
       "value": "100%"
      }
     },
     "5173836479574763981a4c271b85bc48": {
      "model_module": "@jupyter-widgets/controls",
      "model_module_version": "1.5.0",
      "model_name": "DescriptionStyleModel",
      "state": {
       "description_width": ""
      }
     },
     "5332ddf6528b49bfa776f506acec7bef": {
      "model_module": "@jupyter-widgets/controls",
      "model_module_version": "1.5.0",
      "model_name": "HTMLModel",
      "state": {
       "layout": "IPY_MODEL_7bab9b26d4274e1cb58d273bca589948",
       "style": "IPY_MODEL_98bae3ffc4a442beb92ba110639b53f1",
       "value": " 2/2 [00:23&lt;00:00, 11.62s/it]"
      }
     },
     "56ca2afc879e44d6bc78a1da7ebe8dd0": {
      "model_module": "@jupyter-widgets/controls",
      "model_module_version": "1.5.0",
      "model_name": "FloatProgressModel",
      "state": {
       "bar_style": "success",
       "layout": "IPY_MODEL_6ca3a07c4b6f41fd83a4358ba5ca8917",
       "max": 2,
       "style": "IPY_MODEL_f4727e38a9154e83b9112bf4fc507b35",
       "value": 2
      }
     },
     "576272818d864bd19d628519541d8c4a": {
      "model_module": "@jupyter-widgets/controls",
      "model_module_version": "1.5.0",
      "model_name": "HTMLModel",
      "state": {
       "layout": "IPY_MODEL_a45d3e089fc84a29be4ca6df32183e7d",
       "style": "IPY_MODEL_f4c19ce8e43a4bc9b7544ad9a6248946",
       "value": "100%"
      }
     },
     "58627eb672304698ae3e33f6d4317820": {
      "model_module": "@jupyter-widgets/base",
      "model_module_version": "1.2.0",
      "model_name": "LayoutModel",
      "state": {}
     },
     "58b557384c8144e9aa1b40b191c67cab": {
      "model_module": "@jupyter-widgets/controls",
      "model_module_version": "1.5.0",
      "model_name": "HBoxModel",
      "state": {
       "children": [
        "IPY_MODEL_4d3110c95fe340cf81bbc88d475e7eb8",
        "IPY_MODEL_73be87b5842b4129b40efa50896aa772",
        "IPY_MODEL_f79804afc8bc4f92898c65b430fe7382"
       ],
       "layout": "IPY_MODEL_9c2aeb411bb04f8580a1b056d6c8c605"
      }
     },
     "5beddd8fb1f741f096714dff9885e976": {
      "model_module": "@jupyter-widgets/controls",
      "model_module_version": "1.5.0",
      "model_name": "ProgressStyleModel",
      "state": {
       "description_width": ""
      }
     },
     "5fa82f29197b412f894745760e3b19c7": {
      "model_module": "@jupyter-widgets/controls",
      "model_module_version": "1.5.0",
      "model_name": "HTMLModel",
      "state": {
       "layout": "IPY_MODEL_58627eb672304698ae3e33f6d4317820",
       "style": "IPY_MODEL_49392332199445b7abe6df1129079b5e",
       "value": "100%"
      }
     },
     "5fc20210a11a4f0fadf049f3bd10bb11": {
      "model_module": "@jupyter-widgets/controls",
      "model_module_version": "1.5.0",
      "model_name": "HTMLModel",
      "state": {
       "layout": "IPY_MODEL_4435ec105adc43cc9b1ef0eefec89c90",
       "style": "IPY_MODEL_8e285afc5d0d44c989c0cbc8dc6be81a",
       "value": " 84/84 [01:10&lt;00:00,  1.20it/s]"
      }
     },
     "6627d43596f8452c99cf1ef2482e729c": {
      "model_module": "@jupyter-widgets/base",
      "model_module_version": "1.2.0",
      "model_name": "LayoutModel",
      "state": {}
     },
     "6ca3a07c4b6f41fd83a4358ba5ca8917": {
      "model_module": "@jupyter-widgets/base",
      "model_module_version": "1.2.0",
      "model_name": "LayoutModel",
      "state": {}
     },
     "6faf15bcb3714f37b6e833ccc9933f32": {
      "model_module": "@jupyter-widgets/base",
      "model_module_version": "1.2.0",
      "model_name": "LayoutModel",
      "state": {}
     },
     "73be87b5842b4129b40efa50896aa772": {
      "model_module": "@jupyter-widgets/controls",
      "model_module_version": "1.5.0",
      "model_name": "FloatProgressModel",
      "state": {
       "bar_style": "success",
       "layout": "IPY_MODEL_76e28a566a7c49b5a6e7ee63c3f75816",
       "max": 84,
       "style": "IPY_MODEL_5beddd8fb1f741f096714dff9885e976",
       "value": 84
      }
     },
     "76e28a566a7c49b5a6e7ee63c3f75816": {
      "model_module": "@jupyter-widgets/base",
      "model_module_version": "1.2.0",
      "model_name": "LayoutModel",
      "state": {}
     },
     "7bab9b26d4274e1cb58d273bca589948": {
      "model_module": "@jupyter-widgets/base",
      "model_module_version": "1.2.0",
      "model_name": "LayoutModel",
      "state": {}
     },
     "7c889ea1914a4fda931ce541abef1adc": {
      "model_module": "@jupyter-widgets/controls",
      "model_module_version": "1.5.0",
      "model_name": "ProgressStyleModel",
      "state": {
       "description_width": ""
      }
     },
     "7f3ab7cdb5a64cb78706761ed95aafe5": {
      "model_module": "@jupyter-widgets/controls",
      "model_module_version": "1.5.0",
      "model_name": "HTMLModel",
      "state": {
       "layout": "IPY_MODEL_6faf15bcb3714f37b6e833ccc9933f32",
       "style": "IPY_MODEL_94ffefe735f24517a097d79aa20a98ac",
       "value": "100%"
      }
     },
     "829a52cb32864e02b3d832f3f7afd0a6": {
      "model_module": "@jupyter-widgets/controls",
      "model_module_version": "1.5.0",
      "model_name": "HBoxModel",
      "state": {
       "children": [
        "IPY_MODEL_b40407407a404f69959549f5237161f6",
        "IPY_MODEL_d3ec7061bf5149dfa57cb68940f64bb0",
        "IPY_MODEL_5332ddf6528b49bfa776f506acec7bef"
       ],
       "layout": "IPY_MODEL_ef4e8050d89041328ca3cfba5639a163"
      }
     },
     "870b3a1bb1c7447597c1ccd94fe6d970": {
      "model_module": "@jupyter-widgets/controls",
      "model_module_version": "1.5.0",
      "model_name": "HBoxModel",
      "state": {
       "children": [
        "IPY_MODEL_5fa82f29197b412f894745760e3b19c7",
        "IPY_MODEL_252d78daf32245bab2a33660ec5239a8",
        "IPY_MODEL_5fc20210a11a4f0fadf049f3bd10bb11"
       ],
       "layout": "IPY_MODEL_981480d25e0f41bf9be28b24c5948bce"
      }
     },
     "8e285afc5d0d44c989c0cbc8dc6be81a": {
      "model_module": "@jupyter-widgets/controls",
      "model_module_version": "1.5.0",
      "model_name": "DescriptionStyleModel",
      "state": {
       "description_width": ""
      }
     },
     "94ffefe735f24517a097d79aa20a98ac": {
      "model_module": "@jupyter-widgets/controls",
      "model_module_version": "1.5.0",
      "model_name": "DescriptionStyleModel",
      "state": {
       "description_width": ""
      }
     },
     "95213c9a2aa54b8ba4eb6d02beb02a16": {
      "model_module": "@jupyter-widgets/base",
      "model_module_version": "1.2.0",
      "model_name": "LayoutModel",
      "state": {}
     },
     "981480d25e0f41bf9be28b24c5948bce": {
      "model_module": "@jupyter-widgets/base",
      "model_module_version": "1.2.0",
      "model_name": "LayoutModel",
      "state": {}
     },
     "98bae3ffc4a442beb92ba110639b53f1": {
      "model_module": "@jupyter-widgets/controls",
      "model_module_version": "1.5.0",
      "model_name": "DescriptionStyleModel",
      "state": {
       "description_width": ""
      }
     },
     "9c2aeb411bb04f8580a1b056d6c8c605": {
      "model_module": "@jupyter-widgets/base",
      "model_module_version": "1.2.0",
      "model_name": "LayoutModel",
      "state": {}
     },
     "a08a8d77e5514d7296bb4ee4535ffe53": {
      "model_module": "@jupyter-widgets/base",
      "model_module_version": "1.2.0",
      "model_name": "LayoutModel",
      "state": {}
     },
     "a45d3e089fc84a29be4ca6df32183e7d": {
      "model_module": "@jupyter-widgets/base",
      "model_module_version": "1.2.0",
      "model_name": "LayoutModel",
      "state": {}
     },
     "ab89e850d8b3447fa5966588d0df39f5": {
      "model_module": "@jupyter-widgets/controls",
      "model_module_version": "1.5.0",
      "model_name": "HTMLModel",
      "state": {
       "layout": "IPY_MODEL_4644cf7674fd4e5b82d140846452a7e6",
       "style": "IPY_MODEL_c770c1f888b14900949dca7632fbb90d",
       "value": " 2/2 [01:27&lt;00:00, 43.94s/it]"
      }
     },
     "aec33364f4e749e190707bf15084081f": {
      "model_module": "@jupyter-widgets/controls",
      "model_module_version": "1.5.0",
      "model_name": "HTMLModel",
      "state": {
       "layout": "IPY_MODEL_2b9425ff49a74f4c8d86f4a5e828f92f",
       "style": "IPY_MODEL_5173836479574763981a4c271b85bc48",
       "value": " 124/124 [00:11&lt;00:00, 10.77it/s]"
      }
     },
     "b0a362b367ad4189acbcc029fd81ee6c": {
      "model_module": "@jupyter-widgets/controls",
      "model_module_version": "1.5.0",
      "model_name": "DescriptionStyleModel",
      "state": {
       "description_width": ""
      }
     },
     "b40407407a404f69959549f5237161f6": {
      "model_module": "@jupyter-widgets/controls",
      "model_module_version": "1.5.0",
      "model_name": "HTMLModel",
      "state": {
       "layout": "IPY_MODEL_0e040885ccbb47fb8576c33dd61e35ba",
       "style": "IPY_MODEL_c7bcdcf287224c7f831a63db9fd6c1af",
       "value": "100%"
      }
     },
     "b91bd64655bd4c93baedf96a707077d2": {
      "model_module": "@jupyter-widgets/controls",
      "model_module_version": "1.5.0",
      "model_name": "DescriptionStyleModel",
      "state": {
       "description_width": ""
      }
     },
     "c044d4eb81a74040973cb3b081d2cf86": {
      "model_module": "@jupyter-widgets/base",
      "model_module_version": "1.2.0",
      "model_name": "LayoutModel",
      "state": {}
     },
     "c770c1f888b14900949dca7632fbb90d": {
      "model_module": "@jupyter-widgets/controls",
      "model_module_version": "1.5.0",
      "model_name": "DescriptionStyleModel",
      "state": {
       "description_width": ""
      }
     },
     "c7bcdcf287224c7f831a63db9fd6c1af": {
      "model_module": "@jupyter-widgets/controls",
      "model_module_version": "1.5.0",
      "model_name": "DescriptionStyleModel",
      "state": {
       "description_width": ""
      }
     },
     "d3ec7061bf5149dfa57cb68940f64bb0": {
      "model_module": "@jupyter-widgets/controls",
      "model_module_version": "1.5.0",
      "model_name": "FloatProgressModel",
      "state": {
       "bar_style": "success",
       "layout": "IPY_MODEL_6627d43596f8452c99cf1ef2482e729c",
       "max": 2,
       "style": "IPY_MODEL_49cfb57fb916446e959ca4e1f4f2c7d4",
       "value": 2
      }
     },
     "d67864407eaa4b90a9ed8e4f7786b07f": {
      "model_module": "@jupyter-widgets/base",
      "model_module_version": "1.2.0",
      "model_name": "LayoutModel",
      "state": {}
     },
     "d6bf652a07dd4f0d830030e2f855073f": {
      "model_module": "@jupyter-widgets/controls",
      "model_module_version": "1.5.0",
      "model_name": "HTMLModel",
      "state": {
       "layout": "IPY_MODEL_1358c5897741458f9ed423a8c04d0bb5",
       "style": "IPY_MODEL_4d1951cd64204ac1b405ed0d8d2112d9",
       "value": "100%"
      }
     },
     "ee66265a561b4e9db51f22336576b323": {
      "model_module": "@jupyter-widgets/base",
      "model_module_version": "1.2.0",
      "model_name": "LayoutModel",
      "state": {}
     },
     "ef4e8050d89041328ca3cfba5639a163": {
      "model_module": "@jupyter-widgets/base",
      "model_module_version": "1.2.0",
      "model_name": "LayoutModel",
      "state": {}
     },
     "f4727e38a9154e83b9112bf4fc507b35": {
      "model_module": "@jupyter-widgets/controls",
      "model_module_version": "1.5.0",
      "model_name": "ProgressStyleModel",
      "state": {
       "description_width": ""
      }
     },
     "f4c19ce8e43a4bc9b7544ad9a6248946": {
      "model_module": "@jupyter-widgets/controls",
      "model_module_version": "1.5.0",
      "model_name": "DescriptionStyleModel",
      "state": {
       "description_width": ""
      }
     },
     "f79804afc8bc4f92898c65b430fe7382": {
      "model_module": "@jupyter-widgets/controls",
      "model_module_version": "1.5.0",
      "model_name": "HTMLModel",
      "state": {
       "layout": "IPY_MODEL_0add5d360bc9452b814a6c3cc0c0aca3",
       "style": "IPY_MODEL_b0a362b367ad4189acbcc029fd81ee6c",
       "value": " 84/84 [00:17&lt;00:00,  4.93it/s]"
      }
     },
     "f8c0b1cf297f4b00ac08e883acf9cff2": {
      "model_module": "@jupyter-widgets/controls",
      "model_module_version": "1.5.0",
      "model_name": "DescriptionStyleModel",
      "state": {
       "description_width": ""
      }
     }
    },
    "version_major": 2,
    "version_minor": 0
   }
  }
 },
 "nbformat": 4,
 "nbformat_minor": 4
}
