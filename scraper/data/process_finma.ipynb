{
 "cells": [
  {
   "cell_type": "code",
   "execution_count": 1,
   "metadata": {},
   "outputs": [],
   "source": [
    "import pandas as pd\n",
    "from bs4 import BeautifulSoup\n",
    "from tqdm.auto import tqdm\n",
    "from scraper import Web, Site, parallel_map, find_urls"
   ]
  },
  {
   "cell_type": "code",
   "execution_count": 2,
   "metadata": {},
   "outputs": [
    {
     "data": {
      "text/plain": [
       "'<!DOCTYPE html>\\n<!--'"
      ]
     },
     "execution_count": 2,
     "metadata": {},
     "output_type": "execute_result"
    }
   ],
   "source": [
    "with open('./sources/finma.html', 'r') as iosco_source:\n",
    "    html = iosco_source.read()\n",
    "html[:20]"
   ]
  },
  {
   "cell_type": "code",
   "execution_count": 3,
   "metadata": {},
   "outputs": [
    {
     "data": {
      "text/plain": [
       "[{'company_name': '10CryptoMarket',\n",
       "  'report_url': 'https://www.finma.ch/en/finma-public/warning-list/10cryptomarket/'},\n",
       " {'company_name': '1A-CREDIT-now AG',\n",
       "  'report_url': 'https://www.finma.ch/en/finma-public/warning-list/1a-credit-now-ag/'},\n",
       " {'company_name': '1APayment AG',\n",
       "  'report_url': 'https://www.finma.ch/en/finma-public/warning-list/1apayment-ag/'},\n",
       " {'company_name': '1oakmg Sagl',\n",
       "  'report_url': 'https://www.finma.ch/en/finma-public/warning-list/1oakmg-sagl/'}]"
      ]
     },
     "execution_count": 3,
     "metadata": {},
     "output_type": "execute_result"
    }
   ],
   "source": [
    "soup = BeautifulSoup(html, 'lxml')\n",
    "table = soup.find_all('table')[0]\n",
    "\n",
    "rows = [\n",
    "    row\n",
    "    for row in [\n",
    "        row.find_all('td')\n",
    "        for row in table.find_all('tr')\n",
    "    ]\n",
    "    if len(row) > 0\n",
    "]\n",
    "metadata = [\n",
    "    dict(\n",
    "        company_name=row[0].a.get_text(),\n",
    "        report_url=row[0].a['href']\n",
    "    )\n",
    "    for row in rows\n",
    "]\n",
    "metadata = metadata[:128] # so that we fit in Vercel memory limits 30 steps from now\n",
    "metadata[:4]"
   ]
  },
  {
   "cell_type": "code",
   "execution_count": 4,
   "metadata": {},
   "outputs": [
    {
     "data": {
      "text/plain": [
       "'https://www.10cryptomarket.com/'"
      ]
     },
     "execution_count": 4,
     "metadata": {},
     "output_type": "execute_result"
    }
   ],
   "source": [
    "def get_homepage_url(report_url):\n",
    "    try:\n",
    "        return pd.read_html(report_url)[0][1].iloc[3]\n",
    "    except:\n",
    "        return ''\n",
    "    \n",
    "get_homepage_url('https://www.finma.ch/en/finma-public/warning-list/10cryptomarket/')"
   ]
  },
  {
   "cell_type": "code",
   "execution_count": 5,
   "metadata": {},
   "outputs": [
    {
     "data": {
      "application/vnd.jupyter.widget-view+json": {
       "model_id": "4d2223fc77f44cd0ab6b2371ed3b707c",
       "version_major": 2,
       "version_minor": 0
      },
      "text/plain": [
       "HBox(children=(HTML(value=''), FloatProgress(value=0.0, max=128.0), HTML(value='')))"
      ]
     },
     "metadata": {},
     "output_type": "display_data"
    },
    {
     "name": "stdout",
     "output_type": "stream",
     "text": [
      "\n"
     ]
    },
    {
     "data": {
      "text/plain": [
       "['http://www.10cryptomarket.com/',\n",
       " 'http://www.1a-credit-now.ch',\n",
       " 'http://www.1apcoin.com',\n",
       " 'http://www.1apayment.com']"
      ]
     },
     "execution_count": 5,
     "metadata": {},
     "output_type": "execute_result"
    }
   ],
   "source": [
    "homepage_urls = [\n",
    "    url\n",
    "    for url_text in parallel_map(\n",
    "        get_homepage_url,\n",
    "        [info['report_url'] for info in metadata]\n",
    "    )\n",
    "    for url in find_urls(url_text)\n",
    "]\n",
    "homepage_urls[:4]"
   ]
  },
  {
   "cell_type": "code",
   "execution_count": 6,
   "metadata": {},
   "outputs": [
    {
     "data": {
      "application/vnd.jupyter.widget-view+json": {
       "model_id": "d29c0eb791284e6484c8d2cc9dd98504",
       "version_major": 2,
       "version_minor": 0
      },
      "text/plain": [
       "HBox(children=(HTML(value=''), FloatProgress(value=0.0, max=105.0), HTML(value='')))"
      ]
     },
     "metadata": {},
     "output_type": "display_data"
    },
    {
     "name": "stdout",
     "output_type": "stream",
     "text": [
      "\n"
     ]
    },
    {
     "data": {
      "text/plain": [
       "Web with 445 sites"
      ]
     },
     "execution_count": 6,
     "metadata": {},
     "output_type": "execute_result"
    }
   ],
   "source": [
    "def get_scam_web(homepage_url):\n",
    "    return Web.from_url(homepage_url, max_links=32, depth=2, parallel=False)\n",
    "\n",
    "web = Web.merge(*parallel_map(\n",
    "    get_scam_web,\n",
    "    homepage_urls\n",
    "))\n",
    "web"
   ]
  },
  {
   "cell_type": "code",
   "execution_count": 7,
   "metadata": {},
   "outputs": [],
   "source": [
    "web.to_zip('./intermediate/finma.gz')"
   ]
  }
 ],
 "metadata": {
  "kernelspec": {
   "display_name": "Python 3",
   "language": "python",
   "name": "python3"
  },
  "language_info": {
   "codemirror_mode": {
    "name": "ipython",
    "version": 3
   },
   "file_extension": ".py",
   "mimetype": "text/x-python",
   "name": "python",
   "nbconvert_exporter": "python",
   "pygments_lexer": "ipython3",
   "version": "3.8.6"
  },
  "widgets": {
   "application/vnd.jupyter.widget-state+json": {
    "state": {
     "04bf2077a0c543c686fc933bcc8badbd": {
      "model_module": "@jupyter-widgets/base",
      "model_module_version": "1.2.0",
      "model_name": "LayoutModel",
      "state": {}
     },
     "0577925ef8f5408a8a67948ff9a47dcd": {
      "model_module": "@jupyter-widgets/controls",
      "model_module_version": "1.5.0",
      "model_name": "ProgressStyleModel",
      "state": {
       "description_width": ""
      }
     },
     "072ee2c0614f4eaea4609786bc77767d": {
      "model_module": "@jupyter-widgets/base",
      "model_module_version": "1.2.0",
      "model_name": "LayoutModel",
      "state": {}
     },
     "0c1e720970c5463fb3a60b876b8ac7b4": {
      "model_module": "@jupyter-widgets/controls",
      "model_module_version": "1.5.0",
      "model_name": "HTMLModel",
      "state": {
       "layout": "IPY_MODEL_78e14b0087bc483081ce6d988bb1e1a5",
       "style": "IPY_MODEL_4f6ea8bc660a43d59e11678626be6b92",
       "value": "100%"
      }
     },
     "0c331f7f0bbe44ee9e07dccb35bd1c6e": {
      "model_module": "@jupyter-widgets/controls",
      "model_module_version": "1.5.0",
      "model_name": "FloatProgressModel",
      "state": {
       "layout": "IPY_MODEL_c92e94b3fe71411d90a91d2eaab887a6",
       "max": 128,
       "style": "IPY_MODEL_7e8001f4d1d640268bff8a5ae51d3d1b",
       "value": 68
      }
     },
     "0d3be1fd41294d8f8ebc3f7d6f68a319": {
      "model_module": "@jupyter-widgets/controls",
      "model_module_version": "1.5.0",
      "model_name": "FloatProgressModel",
      "state": {
       "bar_style": "success",
       "layout": "IPY_MODEL_d6169800ff794cf4b8b6b340520d9c62",
       "max": 64,
       "style": "IPY_MODEL_a106e513ff3e4778b68bc343ed48bf02",
       "value": 64
      }
     },
     "0d90b191ab194f868c7c9760f00d63d7": {
      "model_module": "@jupyter-widgets/controls",
      "model_module_version": "1.5.0",
      "model_name": "HTMLModel",
      "state": {
       "layout": "IPY_MODEL_a8603c21bd2e4f4bad06b2ab39423fbb",
       "style": "IPY_MODEL_db217c6370584159a9d8356dc23961e3",
       "value": "100%"
      }
     },
     "0e5b8087bb084d46b52fcb69d9dee2d1": {
      "model_module": "@jupyter-widgets/controls",
      "model_module_version": "1.5.0",
      "model_name": "HTMLModel",
      "state": {
       "layout": "IPY_MODEL_f350c2b85ea842a9ba622d50118bb598",
       "style": "IPY_MODEL_95e4bc42c2b240e79c10f19b7c0e70f7",
       "value": "100%"
      }
     },
     "10541918e12a426d8b2c10dc55f68d5d": {
      "model_module": "@jupyter-widgets/base",
      "model_module_version": "1.2.0",
      "model_name": "LayoutModel",
      "state": {}
     },
     "11218ffa5b5b410cb2118f018b732c8b": {
      "model_module": "@jupyter-widgets/controls",
      "model_module_version": "1.5.0",
      "model_name": "ProgressStyleModel",
      "state": {
       "description_width": ""
      }
     },
     "16676ece0ff04d2aa58ba19ef58330c4": {
      "model_module": "@jupyter-widgets/controls",
      "model_module_version": "1.5.0",
      "model_name": "HTMLModel",
      "state": {
       "layout": "IPY_MODEL_e64e4f6500b64d9f978b838e108bc7d3",
       "style": "IPY_MODEL_437cc0d00ce74c6ea0ad723ba226d2dc",
       "value": " 64/64 [02:15&lt;00:00,  2.11s/it]"
      }
     },
     "17a093ed49154ac986ee8c56fad6a2ac": {
      "model_module": "@jupyter-widgets/controls",
      "model_module_version": "1.5.0",
      "model_name": "DescriptionStyleModel",
      "state": {
       "description_width": ""
      }
     },
     "17b5fce38abc4b19b2c6aaf7555f6c3a": {
      "model_module": "@jupyter-widgets/controls",
      "model_module_version": "1.5.0",
      "model_name": "DescriptionStyleModel",
      "state": {
       "description_width": ""
      }
     },
     "1884dba760274918a295e46da9f5f4ef": {
      "model_module": "@jupyter-widgets/controls",
      "model_module_version": "1.5.0",
      "model_name": "DescriptionStyleModel",
      "state": {
       "description_width": ""
      }
     },
     "1895e1d6b38546a0a314c942e09457f9": {
      "model_module": "@jupyter-widgets/controls",
      "model_module_version": "1.5.0",
      "model_name": "HTMLModel",
      "state": {
       "layout": "IPY_MODEL_ae080145b0dd480f94ff894c31a801db",
       "style": "IPY_MODEL_e55c8c48e3a541bcae8e1e32272170e7",
       "value": " 64/64 [07:01&lt;00:00,  6.58s/it]"
      }
     },
     "19ff0208aee644aea6686374f31ce64b": {
      "model_module": "@jupyter-widgets/controls",
      "model_module_version": "1.5.0",
      "model_name": "FloatProgressModel",
      "state": {
       "bar_style": "success",
       "layout": "IPY_MODEL_1a8a4b53804e4591922d4af6199c9102",
       "max": 64,
       "style": "IPY_MODEL_794fda3896744742bad79bba4303ab7b",
       "value": 64
      }
     },
     "1a8a4b53804e4591922d4af6199c9102": {
      "model_module": "@jupyter-widgets/base",
      "model_module_version": "1.2.0",
      "model_name": "LayoutModel",
      "state": {}
     },
     "22ed813d4f9140958573b455fffa636d": {
      "model_module": "@jupyter-widgets/base",
      "model_module_version": "1.2.0",
      "model_name": "LayoutModel",
      "state": {}
     },
     "24125c1ec84049ca86588f564ba5b969": {
      "model_module": "@jupyter-widgets/controls",
      "model_module_version": "1.5.0",
      "model_name": "ProgressStyleModel",
      "state": {
       "description_width": ""
      }
     },
     "28f7e47b441b473285ac3ee5dd4bf40a": {
      "model_module": "@jupyter-widgets/controls",
      "model_module_version": "1.5.0",
      "model_name": "HBoxModel",
      "state": {
       "children": [
        "IPY_MODEL_c8e33e1f767e4d0d8fcf5b10090149e0",
        "IPY_MODEL_c3a0197232334a7fb9466a5862f8efb6",
        "IPY_MODEL_88e44f02f66c45ad81e968e054f3d3c7"
       ],
       "layout": "IPY_MODEL_22ed813d4f9140958573b455fffa636d"
      }
     },
     "2ae6c3fa71a34e4c9cade17b875501ca": {
      "model_module": "@jupyter-widgets/controls",
      "model_module_version": "1.5.0",
      "model_name": "HTMLModel",
      "state": {
       "layout": "IPY_MODEL_4ff99dfaa925452ebc8359f869218c08",
       "style": "IPY_MODEL_cf01749c19924401ab923e4ffe852dd3",
       "value": "100%"
      }
     },
     "2afc3991870e4f55a2f5e55d09b6c810": {
      "model_module": "@jupyter-widgets/base",
      "model_module_version": "1.2.0",
      "model_name": "LayoutModel",
      "state": {}
     },
     "2c28dca4f097405fb7d365300a43266c": {
      "model_module": "@jupyter-widgets/base",
      "model_module_version": "1.2.0",
      "model_name": "LayoutModel",
      "state": {}
     },
     "312ea8fabdb94f89863db7f4ac07a2b0": {
      "model_module": "@jupyter-widgets/controls",
      "model_module_version": "1.5.0",
      "model_name": "HTMLModel",
      "state": {
       "layout": "IPY_MODEL_10541918e12a426d8b2c10dc55f68d5d",
       "style": "IPY_MODEL_c5451c508d514beeb2c769dba5ec6877",
       "value": "100%"
      }
     },
     "32a27a12c8964667929fdbe68acd677a": {
      "model_module": "@jupyter-widgets/controls",
      "model_module_version": "1.5.0",
      "model_name": "FloatProgressModel",
      "state": {
       "bar_style": "danger",
       "layout": "IPY_MODEL_59c2d607dbae43518016fbdb3a50ecb0",
       "max": 128,
       "style": "IPY_MODEL_11218ffa5b5b410cb2118f018b732c8b",
       "value": 98
      }
     },
     "33533e2143b04f478801e64f5e69842b": {
      "model_module": "@jupyter-widgets/controls",
      "model_module_version": "1.5.0",
      "model_name": "ProgressStyleModel",
      "state": {
       "description_width": ""
      }
     },
     "36c772c0fb7d4a8890878b78245dd63a": {
      "model_module": "@jupyter-widgets/base",
      "model_module_version": "1.2.0",
      "model_name": "LayoutModel",
      "state": {}
     },
     "37d10ce4208f4af5b7570e86c0c614c9": {
      "model_module": "@jupyter-widgets/controls",
      "model_module_version": "1.5.0",
      "model_name": "HTMLModel",
      "state": {
       "layout": "IPY_MODEL_2afc3991870e4f55a2f5e55d09b6c810",
       "style": "IPY_MODEL_de069f6817e04925a1f3021534f41c24",
       "value": " 98/128 [00:18&lt;00:05,  5.24it/s]"
      }
     },
     "4122b69d41984971a776c131c2d8983e": {
      "model_module": "@jupyter-widgets/base",
      "model_module_version": "1.2.0",
      "model_name": "LayoutModel",
      "state": {}
     },
     "413f99e7aedd4e6684274a2a5e524f41": {
      "model_module": "@jupyter-widgets/controls",
      "model_module_version": "1.5.0",
      "model_name": "ProgressStyleModel",
      "state": {
       "description_width": ""
      }
     },
     "437cc0d00ce74c6ea0ad723ba226d2dc": {
      "model_module": "@jupyter-widgets/controls",
      "model_module_version": "1.5.0",
      "model_name": "DescriptionStyleModel",
      "state": {
       "description_width": ""
      }
     },
     "48f035046359414381a249e534e0e454": {
      "model_module": "@jupyter-widgets/base",
      "model_module_version": "1.2.0",
      "model_name": "LayoutModel",
      "state": {}
     },
     "496703d7059345959e9ea242d9bb2647": {
      "model_module": "@jupyter-widgets/controls",
      "model_module_version": "1.5.0",
      "model_name": "DescriptionStyleModel",
      "state": {
       "description_width": ""
      }
     },
     "4a31ae2a3d8f44198085dbf7d2b56fa9": {
      "model_module": "@jupyter-widgets/controls",
      "model_module_version": "1.5.0",
      "model_name": "DescriptionStyleModel",
      "state": {
       "description_width": ""
      }
     },
     "4d2223fc77f44cd0ab6b2371ed3b707c": {
      "model_module": "@jupyter-widgets/controls",
      "model_module_version": "1.5.0",
      "model_name": "HBoxModel",
      "state": {
       "children": [
        "IPY_MODEL_e76b5231b9084c81a6dc61ad41d786a6",
        "IPY_MODEL_7ef3721694894354b0550ca768d15925",
        "IPY_MODEL_6bd61038d6b244ccbef50b9679501300"
       ],
       "layout": "IPY_MODEL_4122b69d41984971a776c131c2d8983e"
      }
     },
     "4e230dab4d4143a0ba2902e30c981fb1": {
      "model_module": "@jupyter-widgets/controls",
      "model_module_version": "1.5.0",
      "model_name": "DescriptionStyleModel",
      "state": {
       "description_width": ""
      }
     },
     "4f6ea8bc660a43d59e11678626be6b92": {
      "model_module": "@jupyter-widgets/controls",
      "model_module_version": "1.5.0",
      "model_name": "DescriptionStyleModel",
      "state": {
       "description_width": ""
      }
     },
     "4ff99dfaa925452ebc8359f869218c08": {
      "model_module": "@jupyter-widgets/base",
      "model_module_version": "1.2.0",
      "model_name": "LayoutModel",
      "state": {}
     },
     "526fc5cde2ea47c8b674e291d699d97d": {
      "model_module": "@jupyter-widgets/controls",
      "model_module_version": "1.5.0",
      "model_name": "HBoxModel",
      "state": {
       "children": [
        "IPY_MODEL_0e5b8087bb084d46b52fcb69d9dee2d1",
        "IPY_MODEL_dbae049f654a49709649375713fab493",
        "IPY_MODEL_1895e1d6b38546a0a314c942e09457f9"
       ],
       "layout": "IPY_MODEL_6e1c4ee9d52e4b43bfa1e34640d1068b"
      }
     },
     "52a0844315e14f9987b2877e6ef13a6f": {
      "model_module": "@jupyter-widgets/controls",
      "model_module_version": "1.5.0",
      "model_name": "FloatProgressModel",
      "state": {
       "bar_style": "success",
       "layout": "IPY_MODEL_f5552f64bca64b09953c57c6d139f460",
       "max": 64,
       "style": "IPY_MODEL_f6e63b1e1d184a928728a3732d614204",
       "value": 64
      }
     },
     "56e1ff5cd63f473488838711e71f50b9": {
      "model_module": "@jupyter-widgets/controls",
      "model_module_version": "1.5.0",
      "model_name": "FloatProgressModel",
      "state": {
       "bar_style": "success",
       "layout": "IPY_MODEL_64cee21b27e64f73bf4dc4ececed1473",
       "max": 128,
       "style": "IPY_MODEL_6d331374563d441c83c19b00c524423d",
       "value": 128
      }
     },
     "58739072070e4f57b16da20b6b451ac6": {
      "model_module": "@jupyter-widgets/controls",
      "model_module_version": "1.5.0",
      "model_name": "ProgressStyleModel",
      "state": {
       "description_width": ""
      }
     },
     "5920eff47c5240f9a3d319fe583d9437": {
      "model_module": "@jupyter-widgets/base",
      "model_module_version": "1.2.0",
      "model_name": "LayoutModel",
      "state": {}
     },
     "59c2d607dbae43518016fbdb3a50ecb0": {
      "model_module": "@jupyter-widgets/base",
      "model_module_version": "1.2.0",
      "model_name": "LayoutModel",
      "state": {}
     },
     "5bfff24d08b24d4ea166356f025a1111": {
      "model_module": "@jupyter-widgets/controls",
      "model_module_version": "1.5.0",
      "model_name": "FloatProgressModel",
      "state": {
       "bar_style": "success",
       "layout": "IPY_MODEL_781b0e31a6fb41f0881ec3766c2d2734",
       "max": 105,
       "style": "IPY_MODEL_9a9c9f38a8754b4cab6cb4f652c05d61",
       "value": 105
      }
     },
     "5cba8497e75e49aeba961778173e68a4": {
      "model_module": "@jupyter-widgets/controls",
      "model_module_version": "1.5.0",
      "model_name": "HTMLModel",
      "state": {
       "layout": "IPY_MODEL_9e5632368da449e180631b25d19d80c4",
       "style": "IPY_MODEL_9673b4f21eb146e3b31bc54772551d86",
       "value": " 68/128 [00:36&lt;00:26,  2.30it/s]"
      }
     },
     "5d2e4c866b694210b22f6b3a4ac6b6e6": {
      "model_module": "@jupyter-widgets/base",
      "model_module_version": "1.2.0",
      "model_name": "LayoutModel",
      "state": {}
     },
     "5ef730d636724448b9182c0493db693c": {
      "model_module": "@jupyter-widgets/base",
      "model_module_version": "1.2.0",
      "model_name": "LayoutModel",
      "state": {}
     },
     "60135e4b0b63456c885e847e1df9aa4d": {
      "model_module": "@jupyter-widgets/controls",
      "model_module_version": "1.5.0",
      "model_name": "HTMLModel",
      "state": {
       "layout": "IPY_MODEL_8262fc1580d645c88582b56b4da8e0d7",
       "style": "IPY_MODEL_4a31ae2a3d8f44198085dbf7d2b56fa9",
       "value": " 128/128 [00:19&lt;00:00,  6.66it/s]"
      }
     },
     "60850cf4bdd047f0b67d14f3d1c9d932": {
      "model_module": "@jupyter-widgets/base",
      "model_module_version": "1.2.0",
      "model_name": "LayoutModel",
      "state": {}
     },
     "60b0f0253e7e4ca69c84637905ccc97d": {
      "model_module": "@jupyter-widgets/controls",
      "model_module_version": "1.5.0",
      "model_name": "HTMLModel",
      "state": {
       "layout": "IPY_MODEL_801c146abe4f40a8be1aa5855e1f0ee0",
       "style": "IPY_MODEL_b723ce4be017496695b9fc41fad86380",
       "value": " 53%"
      }
     },
     "60e67a865eee4b038624d44dbccf2fc8": {
      "model_module": "@jupyter-widgets/controls",
      "model_module_version": "1.5.0",
      "model_name": "DescriptionStyleModel",
      "state": {
       "description_width": ""
      }
     },
     "64cee21b27e64f73bf4dc4ececed1473": {
      "model_module": "@jupyter-widgets/base",
      "model_module_version": "1.2.0",
      "model_name": "LayoutModel",
      "state": {}
     },
     "65d2a508f73c47dc869d5e020985c2f3": {
      "model_module": "@jupyter-widgets/base",
      "model_module_version": "1.2.0",
      "model_name": "LayoutModel",
      "state": {}
     },
     "668d1a9609df40c68da639622c8dd748": {
      "model_module": "@jupyter-widgets/controls",
      "model_module_version": "1.5.0",
      "model_name": "DescriptionStyleModel",
      "state": {
       "description_width": ""
      }
     },
     "6695956f7717402580cb3855b7c71360": {
      "model_module": "@jupyter-widgets/controls",
      "model_module_version": "1.5.0",
      "model_name": "DescriptionStyleModel",
      "state": {
       "description_width": ""
      }
     },
     "6bd61038d6b244ccbef50b9679501300": {
      "model_module": "@jupyter-widgets/controls",
      "model_module_version": "1.5.0",
      "model_name": "HTMLModel",
      "state": {
       "layout": "IPY_MODEL_48f035046359414381a249e534e0e454",
       "style": "IPY_MODEL_17b5fce38abc4b19b2c6aaf7555f6c3a",
       "value": " 128/128 [00:09&lt;00:00, 14.08it/s]"
      }
     },
     "6d331374563d441c83c19b00c524423d": {
      "model_module": "@jupyter-widgets/controls",
      "model_module_version": "1.5.0",
      "model_name": "ProgressStyleModel",
      "state": {
       "description_width": ""
      }
     },
     "6d9c0af7ff7140afa9323ab1d97851d6": {
      "model_module": "@jupyter-widgets/controls",
      "model_module_version": "1.5.0",
      "model_name": "HTMLModel",
      "state": {
       "layout": "IPY_MODEL_5920eff47c5240f9a3d319fe583d9437",
       "style": "IPY_MODEL_1884dba760274918a295e46da9f5f4ef",
       "value": "100%"
      }
     },
     "6e1c4ee9d52e4b43bfa1e34640d1068b": {
      "model_module": "@jupyter-widgets/base",
      "model_module_version": "1.2.0",
      "model_name": "LayoutModel",
      "state": {}
     },
     "713b96ba4c684e3c95aa8598a4bfa537": {
      "model_module": "@jupyter-widgets/base",
      "model_module_version": "1.2.0",
      "model_name": "LayoutModel",
      "state": {}
     },
     "7609b8e3e3704dbc8a7c69b870f4de5d": {
      "model_module": "@jupyter-widgets/base",
      "model_module_version": "1.2.0",
      "model_name": "LayoutModel",
      "state": {}
     },
     "781b0e31a6fb41f0881ec3766c2d2734": {
      "model_module": "@jupyter-widgets/base",
      "model_module_version": "1.2.0",
      "model_name": "LayoutModel",
      "state": {}
     },
     "78babe4fcd8c43338255c0f474105fb5": {
      "model_module": "@jupyter-widgets/controls",
      "model_module_version": "1.5.0",
      "model_name": "HTMLModel",
      "state": {
       "layout": "IPY_MODEL_79dd2574aa154c0982d7713001d5a8e0",
       "style": "IPY_MODEL_c351f96c4d43451684e5da8411de2e98",
       "value": "100%"
      }
     },
     "78e14b0087bc483081ce6d988bb1e1a5": {
      "model_module": "@jupyter-widgets/base",
      "model_module_version": "1.2.0",
      "model_name": "LayoutModel",
      "state": {}
     },
     "794fda3896744742bad79bba4303ab7b": {
      "model_module": "@jupyter-widgets/controls",
      "model_module_version": "1.5.0",
      "model_name": "ProgressStyleModel",
      "state": {
       "description_width": ""
      }
     },
     "798173c7c3754accadc223e9a3d3583c": {
      "model_module": "@jupyter-widgets/base",
      "model_module_version": "1.2.0",
      "model_name": "LayoutModel",
      "state": {}
     },
     "79dd2574aa154c0982d7713001d5a8e0": {
      "model_module": "@jupyter-widgets/base",
      "model_module_version": "1.2.0",
      "model_name": "LayoutModel",
      "state": {}
     },
     "7c548907b2aa4f648232ef02efd06bdf": {
      "model_module": "@jupyter-widgets/controls",
      "model_module_version": "1.5.0",
      "model_name": "FloatProgressModel",
      "state": {
       "bar_style": "success",
       "layout": "IPY_MODEL_9759c70593624265b6c8d8f2a67092f5",
       "max": 105,
       "style": "IPY_MODEL_413f99e7aedd4e6684274a2a5e524f41",
       "value": 105
      }
     },
     "7e563ec9434e42f5a94eaaf7aa5a1aa9": {
      "model_module": "@jupyter-widgets/base",
      "model_module_version": "1.2.0",
      "model_name": "LayoutModel",
      "state": {}
     },
     "7e8001f4d1d640268bff8a5ae51d3d1b": {
      "model_module": "@jupyter-widgets/controls",
      "model_module_version": "1.5.0",
      "model_name": "ProgressStyleModel",
      "state": {
       "description_width": ""
      }
     },
     "7ef3721694894354b0550ca768d15925": {
      "model_module": "@jupyter-widgets/controls",
      "model_module_version": "1.5.0",
      "model_name": "FloatProgressModel",
      "state": {
       "bar_style": "success",
       "layout": "IPY_MODEL_8b6502d48056431089832e7b06fc18d9",
       "max": 128,
       "style": "IPY_MODEL_0577925ef8f5408a8a67948ff9a47dcd",
       "value": 128
      }
     },
     "7f99a500785848cda14977b6c62da6c9": {
      "model_module": "@jupyter-widgets/controls",
      "model_module_version": "1.5.0",
      "model_name": "HBoxModel",
      "state": {
       "children": [
        "IPY_MODEL_e99c473054ac42f083b5b60332d2341e",
        "IPY_MODEL_32a27a12c8964667929fdbe68acd677a",
        "IPY_MODEL_37d10ce4208f4af5b7570e86c0c614c9"
       ],
       "layout": "IPY_MODEL_2c28dca4f097405fb7d365300a43266c"
      }
     },
     "801c146abe4f40a8be1aa5855e1f0ee0": {
      "model_module": "@jupyter-widgets/base",
      "model_module_version": "1.2.0",
      "model_name": "LayoutModel",
      "state": {}
     },
     "8262fc1580d645c88582b56b4da8e0d7": {
      "model_module": "@jupyter-widgets/base",
      "model_module_version": "1.2.0",
      "model_name": "LayoutModel",
      "state": {}
     },
     "837811979fb34b59a8c2a1b4371064dc": {
      "model_module": "@jupyter-widgets/base",
      "model_module_version": "1.2.0",
      "model_name": "LayoutModel",
      "state": {}
     },
     "8772adf3feac48b9b9adf42240d11b90": {
      "model_module": "@jupyter-widgets/controls",
      "model_module_version": "1.5.0",
      "model_name": "FloatProgressModel",
      "state": {
       "bar_style": "success",
       "layout": "IPY_MODEL_5d2e4c866b694210b22f6b3a4ac6b6e6",
       "max": 128,
       "style": "IPY_MODEL_24125c1ec84049ca86588f564ba5b969",
       "value": 128
      }
     },
     "88e44f02f66c45ad81e968e054f3d3c7": {
      "model_module": "@jupyter-widgets/controls",
      "model_module_version": "1.5.0",
      "model_name": "HTMLModel",
      "state": {
       "layout": "IPY_MODEL_837811979fb34b59a8c2a1b4371064dc",
       "style": "IPY_MODEL_e199d13586ec453e9a7418f29edc7a9c",
       "value": " 58/58 [03:59&lt;00:00,  4.12s/it]"
      }
     },
     "895048ed0ee347d0b3bf30f83e647c20": {
      "model_module": "@jupyter-widgets/controls",
      "model_module_version": "1.5.0",
      "model_name": "FloatProgressModel",
      "state": {
       "bar_style": "success",
       "layout": "IPY_MODEL_9c94ea8fccce41c0a9f4924f6425094c",
       "max": 58,
       "style": "IPY_MODEL_58739072070e4f57b16da20b6b451ac6",
       "value": 58
      }
     },
     "89d3897230a24a92a39ca50747007e74": {
      "model_module": "@jupyter-widgets/controls",
      "model_module_version": "1.5.0",
      "model_name": "HBoxModel",
      "state": {
       "children": [
        "IPY_MODEL_cd169bc6fca4486faafecfeb3a1ed956",
        "IPY_MODEL_56e1ff5cd63f473488838711e71f50b9",
        "IPY_MODEL_8eafbc0121e041a399c809eb1825eb31"
       ],
       "layout": "IPY_MODEL_afc8519e2cc24b75ab208125159f5949"
      }
     },
     "8b6502d48056431089832e7b06fc18d9": {
      "model_module": "@jupyter-widgets/base",
      "model_module_version": "1.2.0",
      "model_name": "LayoutModel",
      "state": {}
     },
     "8c41f7a6e1e04745ad7092d5e9f140d4": {
      "model_module": "@jupyter-widgets/controls",
      "model_module_version": "1.5.0",
      "model_name": "HTMLModel",
      "state": {
       "layout": "IPY_MODEL_cd93a8b0a42c49c28295d889ca5ab60e",
       "style": "IPY_MODEL_17a093ed49154ac986ee8c56fad6a2ac",
       "value": "100%"
      }
     },
     "8eafbc0121e041a399c809eb1825eb31": {
      "model_module": "@jupyter-widgets/controls",
      "model_module_version": "1.5.0",
      "model_name": "HTMLModel",
      "state": {
       "layout": "IPY_MODEL_65d2a508f73c47dc869d5e020985c2f3",
       "style": "IPY_MODEL_9a5e176a9ca64e4aa0afa4a6feb05bd8",
       "value": " 128/128 [00:11&lt;00:00, 11.59it/s]"
      }
     },
     "9211a9b532c249d09bcdd67851419534": {
      "model_module": "@jupyter-widgets/controls",
      "model_module_version": "1.5.0",
      "model_name": "HTMLModel",
      "state": {
       "layout": "IPY_MODEL_04bf2077a0c543c686fc933bcc8badbd",
       "style": "IPY_MODEL_6695956f7717402580cb3855b7c71360",
       "value": " 58/58 [07:13&lt;00:00,  7.48s/it]"
      }
     },
     "95e4bc42c2b240e79c10f19b7c0e70f7": {
      "model_module": "@jupyter-widgets/controls",
      "model_module_version": "1.5.0",
      "model_name": "DescriptionStyleModel",
      "state": {
       "description_width": ""
      }
     },
     "9673b4f21eb146e3b31bc54772551d86": {
      "model_module": "@jupyter-widgets/controls",
      "model_module_version": "1.5.0",
      "model_name": "DescriptionStyleModel",
      "state": {
       "description_width": ""
      }
     },
     "9759c70593624265b6c8d8f2a67092f5": {
      "model_module": "@jupyter-widgets/base",
      "model_module_version": "1.2.0",
      "model_name": "LayoutModel",
      "state": {}
     },
     "988187889af5464196433e2ff3b27144": {
      "model_module": "@jupyter-widgets/base",
      "model_module_version": "1.2.0",
      "model_name": "LayoutModel",
      "state": {}
     },
     "9a5e176a9ca64e4aa0afa4a6feb05bd8": {
      "model_module": "@jupyter-widgets/controls",
      "model_module_version": "1.5.0",
      "model_name": "DescriptionStyleModel",
      "state": {
       "description_width": ""
      }
     },
     "9a9c9f38a8754b4cab6cb4f652c05d61": {
      "model_module": "@jupyter-widgets/controls",
      "model_module_version": "1.5.0",
      "model_name": "ProgressStyleModel",
      "state": {
       "description_width": ""
      }
     },
     "9c94ea8fccce41c0a9f4924f6425094c": {
      "model_module": "@jupyter-widgets/base",
      "model_module_version": "1.2.0",
      "model_name": "LayoutModel",
      "state": {}
     },
     "9e5632368da449e180631b25d19d80c4": {
      "model_module": "@jupyter-widgets/base",
      "model_module_version": "1.2.0",
      "model_name": "LayoutModel",
      "state": {}
     },
     "a106e513ff3e4778b68bc343ed48bf02": {
      "model_module": "@jupyter-widgets/controls",
      "model_module_version": "1.5.0",
      "model_name": "ProgressStyleModel",
      "state": {
       "description_width": ""
      }
     },
     "a17198989f5f4d65991017f885e3a75b": {
      "model_module": "@jupyter-widgets/base",
      "model_module_version": "1.2.0",
      "model_name": "LayoutModel",
      "state": {}
     },
     "a18d7a4782954a7a9e093a6843b9b685": {
      "model_module": "@jupyter-widgets/controls",
      "model_module_version": "1.5.0",
      "model_name": "HTMLModel",
      "state": {
       "layout": "IPY_MODEL_988187889af5464196433e2ff3b27144",
       "style": "IPY_MODEL_a382e0a8d3064d8c8426b113bbf854fa",
       "value": " 105/105 [02:11&lt;00:00,  1.25s/it]"
      }
     },
     "a324a3c3a1bd4e7abf498bb20293b786": {
      "model_module": "@jupyter-widgets/base",
      "model_module_version": "1.2.0",
      "model_name": "LayoutModel",
      "state": {}
     },
     "a382e0a8d3064d8c8426b113bbf854fa": {
      "model_module": "@jupyter-widgets/controls",
      "model_module_version": "1.5.0",
      "model_name": "DescriptionStyleModel",
      "state": {
       "description_width": ""
      }
     },
     "a5530b973ca040b38fe42f6c3d5207b0": {
      "model_module": "@jupyter-widgets/controls",
      "model_module_version": "1.5.0",
      "model_name": "ProgressStyleModel",
      "state": {
       "description_width": ""
      }
     },
     "a8603c21bd2e4f4bad06b2ab39423fbb": {
      "model_module": "@jupyter-widgets/base",
      "model_module_version": "1.2.0",
      "model_name": "LayoutModel",
      "state": {}
     },
     "ae080145b0dd480f94ff894c31a801db": {
      "model_module": "@jupyter-widgets/base",
      "model_module_version": "1.2.0",
      "model_name": "LayoutModel",
      "state": {}
     },
     "af61d74c23884df9aad2f39f47a5de42": {
      "model_module": "@jupyter-widgets/base",
      "model_module_version": "1.2.0",
      "model_name": "LayoutModel",
      "state": {}
     },
     "afc8519e2cc24b75ab208125159f5949": {
      "model_module": "@jupyter-widgets/base",
      "model_module_version": "1.2.0",
      "model_name": "LayoutModel",
      "state": {}
     },
     "b0b000e884dd4411b5140d26da3ed599": {
      "model_module": "@jupyter-widgets/base",
      "model_module_version": "1.2.0",
      "model_name": "LayoutModel",
      "state": {}
     },
     "b1fec784ecf0468b92af5503eaa75fa5": {
      "model_module": "@jupyter-widgets/controls",
      "model_module_version": "1.5.0",
      "model_name": "HBoxModel",
      "state": {
       "children": [
        "IPY_MODEL_6d9c0af7ff7140afa9323ab1d97851d6",
        "IPY_MODEL_52a0844315e14f9987b2877e6ef13a6f",
        "IPY_MODEL_e5eb141ca0934726b17089d2d65c13c3"
       ],
       "layout": "IPY_MODEL_f026218683eb46f8b53e07ca4f779ef1"
      }
     },
     "b32e4d4f70eb480ba3b06401cc044654": {
      "model_module": "@jupyter-widgets/base",
      "model_module_version": "1.2.0",
      "model_name": "LayoutModel",
      "state": {}
     },
     "b53ee1e05c1643378de5fbff1f89950a": {
      "model_module": "@jupyter-widgets/controls",
      "model_module_version": "1.5.0",
      "model_name": "HBoxModel",
      "state": {
       "children": [
        "IPY_MODEL_0c1e720970c5463fb3a60b876b8ac7b4",
        "IPY_MODEL_b5e57b8b34064101bf70e0548beebf11",
        "IPY_MODEL_ec31c86d304849c9a01c971c52ae36a5"
       ],
       "layout": "IPY_MODEL_798173c7c3754accadc223e9a3d3583c"
      }
     },
     "b5e57b8b34064101bf70e0548beebf11": {
      "model_module": "@jupyter-widgets/controls",
      "model_module_version": "1.5.0",
      "model_name": "FloatProgressModel",
      "state": {
       "bar_style": "success",
       "layout": "IPY_MODEL_b0b000e884dd4411b5140d26da3ed599",
       "max": 128,
       "style": "IPY_MODEL_a5530b973ca040b38fe42f6c3d5207b0",
       "value": 128
      }
     },
     "b5faeb07b72f4593b75eab9849399b94": {
      "model_module": "@jupyter-widgets/base",
      "model_module_version": "1.2.0",
      "model_name": "LayoutModel",
      "state": {}
     },
     "b723ce4be017496695b9fc41fad86380": {
      "model_module": "@jupyter-widgets/controls",
      "model_module_version": "1.5.0",
      "model_name": "DescriptionStyleModel",
      "state": {
       "description_width": ""
      }
     },
     "b8aa6ffce5954454bb7e159c0046c222": {
      "model_module": "@jupyter-widgets/base",
      "model_module_version": "1.2.0",
      "model_name": "LayoutModel",
      "state": {}
     },
     "be1cde00c7034c0aabf88c9c94db71b9": {
      "model_module": "@jupyter-widgets/controls",
      "model_module_version": "1.5.0",
      "model_name": "HBoxModel",
      "state": {
       "children": [
        "IPY_MODEL_df658f3395374778ba2838217f1043ff",
        "IPY_MODEL_19ff0208aee644aea6686374f31ce64b",
        "IPY_MODEL_16676ece0ff04d2aa58ba19ef58330c4"
       ],
       "layout": "IPY_MODEL_b8aa6ffce5954454bb7e159c0046c222"
      }
     },
     "be4d9fee14454183bdf8fc38902bf119": {
      "model_module": "@jupyter-widgets/controls",
      "model_module_version": "1.5.0",
      "model_name": "DescriptionStyleModel",
      "state": {
       "description_width": ""
      }
     },
     "bf7a2f598e464424a87c8313d89db38b": {
      "model_module": "@jupyter-widgets/controls",
      "model_module_version": "1.5.0",
      "model_name": "HBoxModel",
      "state": {
       "children": [
        "IPY_MODEL_60b0f0253e7e4ca69c84637905ccc97d",
        "IPY_MODEL_0c331f7f0bbe44ee9e07dccb35bd1c6e",
        "IPY_MODEL_5cba8497e75e49aeba961778173e68a4"
       ],
       "layout": "IPY_MODEL_a17198989f5f4d65991017f885e3a75b"
      }
     },
     "c351f96c4d43451684e5da8411de2e98": {
      "model_module": "@jupyter-widgets/controls",
      "model_module_version": "1.5.0",
      "model_name": "DescriptionStyleModel",
      "state": {
       "description_width": ""
      }
     },
     "c3a0197232334a7fb9466a5862f8efb6": {
      "model_module": "@jupyter-widgets/controls",
      "model_module_version": "1.5.0",
      "model_name": "FloatProgressModel",
      "state": {
       "bar_style": "success",
       "layout": "IPY_MODEL_7609b8e3e3704dbc8a7c69b870f4de5d",
       "max": 58,
       "style": "IPY_MODEL_f05db721d3b7456e87e8efb97f56d244",
       "value": 58
      }
     },
     "c5451c508d514beeb2c769dba5ec6877": {
      "model_module": "@jupyter-widgets/controls",
      "model_module_version": "1.5.0",
      "model_name": "DescriptionStyleModel",
      "state": {
       "description_width": ""
      }
     },
     "c57f8d98a450483eaa80da2f81696652": {
      "model_module": "@jupyter-widgets/base",
      "model_module_version": "1.2.0",
      "model_name": "LayoutModel",
      "state": {}
     },
     "c5bf4ae861bc4bc6a6f9fb0ca9b1b546": {
      "model_module": "@jupyter-widgets/controls",
      "model_module_version": "1.5.0",
      "model_name": "HBoxModel",
      "state": {
       "children": [
        "IPY_MODEL_312ea8fabdb94f89863db7f4ac07a2b0",
        "IPY_MODEL_895048ed0ee347d0b3bf30f83e647c20",
        "IPY_MODEL_9211a9b532c249d09bcdd67851419534"
       ],
       "layout": "IPY_MODEL_713b96ba4c684e3c95aa8598a4bfa537"
      }
     },
     "c8e33e1f767e4d0d8fcf5b10090149e0": {
      "model_module": "@jupyter-widgets/controls",
      "model_module_version": "1.5.0",
      "model_name": "HTMLModel",
      "state": {
       "layout": "IPY_MODEL_36c772c0fb7d4a8890878b78245dd63a",
       "style": "IPY_MODEL_f096600d6e62449cbcbe1e41bfe1f07f",
       "value": "100%"
      }
     },
     "c92e94b3fe71411d90a91d2eaab887a6": {
      "model_module": "@jupyter-widgets/base",
      "model_module_version": "1.2.0",
      "model_name": "LayoutModel",
      "state": {}
     },
     "c9ccc8927a494e96b62c832413413072": {
      "model_module": "@jupyter-widgets/controls",
      "model_module_version": "1.5.0",
      "model_name": "HBoxModel",
      "state": {
       "children": [
        "IPY_MODEL_78babe4fcd8c43338255c0f474105fb5",
        "IPY_MODEL_5bfff24d08b24d4ea166356f025a1111",
        "IPY_MODEL_a18d7a4782954a7a9e093a6843b9b685"
       ],
       "layout": "IPY_MODEL_af61d74c23884df9aad2f39f47a5de42"
      }
     },
     "ca605de712a04aa79c6d691f46786db4": {
      "model_module": "@jupyter-widgets/controls",
      "model_module_version": "1.5.0",
      "model_name": "HBoxModel",
      "state": {
       "children": [
        "IPY_MODEL_8c41f7a6e1e04745ad7092d5e9f140d4",
        "IPY_MODEL_0d3be1fd41294d8f8ebc3f7d6f68a319",
        "IPY_MODEL_cb003e859aff4335869cbadfefc3aac6"
       ],
       "layout": "IPY_MODEL_eb49f51fe54e4ee5bfafa5e0a48655b0"
      }
     },
     "cb003e859aff4335869cbadfefc3aac6": {
      "model_module": "@jupyter-widgets/controls",
      "model_module_version": "1.5.0",
      "model_name": "HTMLModel",
      "state": {
       "layout": "IPY_MODEL_a324a3c3a1bd4e7abf498bb20293b786",
       "style": "IPY_MODEL_668d1a9609df40c68da639622c8dd748",
       "value": " 64/64 [03:16&lt;00:00,  3.07s/it]"
      }
     },
     "cd169bc6fca4486faafecfeb3a1ed956": {
      "model_module": "@jupyter-widgets/controls",
      "model_module_version": "1.5.0",
      "model_name": "HTMLModel",
      "state": {
       "layout": "IPY_MODEL_5ef730d636724448b9182c0493db693c",
       "style": "IPY_MODEL_d6fa1ea097734a2a84bae7e97db11ac4",
       "value": "100%"
      }
     },
     "cd93a8b0a42c49c28295d889ca5ab60e": {
      "model_module": "@jupyter-widgets/base",
      "model_module_version": "1.2.0",
      "model_name": "LayoutModel",
      "state": {}
     },
     "cf01749c19924401ab923e4ffe852dd3": {
      "model_module": "@jupyter-widgets/controls",
      "model_module_version": "1.5.0",
      "model_name": "DescriptionStyleModel",
      "state": {
       "description_width": ""
      }
     },
     "d29c0eb791284e6484c8d2cc9dd98504": {
      "model_module": "@jupyter-widgets/controls",
      "model_module_version": "1.5.0",
      "model_name": "HBoxModel",
      "state": {
       "children": [
        "IPY_MODEL_2ae6c3fa71a34e4c9cade17b875501ca",
        "IPY_MODEL_7c548907b2aa4f648232ef02efd06bdf",
        "IPY_MODEL_d321a38327a34fca974bbfba4a35f0b0"
       ],
       "layout": "IPY_MODEL_b5faeb07b72f4593b75eab9849399b94"
      }
     },
     "d321a38327a34fca974bbfba4a35f0b0": {
      "model_module": "@jupyter-widgets/controls",
      "model_module_version": "1.5.0",
      "model_name": "HTMLModel",
      "state": {
       "layout": "IPY_MODEL_072ee2c0614f4eaea4609786bc77767d",
       "style": "IPY_MODEL_4e230dab4d4143a0ba2902e30c981fb1",
       "value": " 105/105 [02:11&lt;00:00,  1.25s/it]"
      }
     },
     "d6169800ff794cf4b8b6b340520d9c62": {
      "model_module": "@jupyter-widgets/base",
      "model_module_version": "1.2.0",
      "model_name": "LayoutModel",
      "state": {}
     },
     "d6cbd14c384e4137964662c66b4104bf": {
      "model_module": "@jupyter-widgets/controls",
      "model_module_version": "1.5.0",
      "model_name": "HBoxModel",
      "state": {
       "children": [
        "IPY_MODEL_0d90b191ab194f868c7c9760f00d63d7",
        "IPY_MODEL_8772adf3feac48b9b9adf42240d11b90",
        "IPY_MODEL_60135e4b0b63456c885e847e1df9aa4d"
       ],
       "layout": "IPY_MODEL_f1c828e2a3694932a05d4be157ffbeef"
      }
     },
     "d6fa1ea097734a2a84bae7e97db11ac4": {
      "model_module": "@jupyter-widgets/controls",
      "model_module_version": "1.5.0",
      "model_name": "DescriptionStyleModel",
      "state": {
       "description_width": ""
      }
     },
     "d8446fe694f84a339bc1d6b05bf63f10": {
      "model_module": "@jupyter-widgets/controls",
      "model_module_version": "1.5.0",
      "model_name": "DescriptionStyleModel",
      "state": {
       "description_width": ""
      }
     },
     "db217c6370584159a9d8356dc23961e3": {
      "model_module": "@jupyter-widgets/controls",
      "model_module_version": "1.5.0",
      "model_name": "DescriptionStyleModel",
      "state": {
       "description_width": ""
      }
     },
     "dbae049f654a49709649375713fab493": {
      "model_module": "@jupyter-widgets/controls",
      "model_module_version": "1.5.0",
      "model_name": "FloatProgressModel",
      "state": {
       "bar_style": "success",
       "layout": "IPY_MODEL_7e563ec9434e42f5a94eaaf7aa5a1aa9",
       "max": 64,
       "style": "IPY_MODEL_33533e2143b04f478801e64f5e69842b",
       "value": 64
      }
     },
     "de069f6817e04925a1f3021534f41c24": {
      "model_module": "@jupyter-widgets/controls",
      "model_module_version": "1.5.0",
      "model_name": "DescriptionStyleModel",
      "state": {
       "description_width": ""
      }
     },
     "df658f3395374778ba2838217f1043ff": {
      "model_module": "@jupyter-widgets/controls",
      "model_module_version": "1.5.0",
      "model_name": "HTMLModel",
      "state": {
       "layout": "IPY_MODEL_60850cf4bdd047f0b67d14f3d1c9d932",
       "style": "IPY_MODEL_e738d8aea7d74b269d4409cc28b0fe1b",
       "value": "100%"
      }
     },
     "e199d13586ec453e9a7418f29edc7a9c": {
      "model_module": "@jupyter-widgets/controls",
      "model_module_version": "1.5.0",
      "model_name": "DescriptionStyleModel",
      "state": {
       "description_width": ""
      }
     },
     "e55c8c48e3a541bcae8e1e32272170e7": {
      "model_module": "@jupyter-widgets/controls",
      "model_module_version": "1.5.0",
      "model_name": "DescriptionStyleModel",
      "state": {
       "description_width": ""
      }
     },
     "e5eb141ca0934726b17089d2d65c13c3": {
      "model_module": "@jupyter-widgets/controls",
      "model_module_version": "1.5.0",
      "model_name": "HTMLModel",
      "state": {
       "layout": "IPY_MODEL_ed4184017b154772a8e3c7e1e703c3df",
       "style": "IPY_MODEL_be4d9fee14454183bdf8fc38902bf119",
       "value": " 64/64 [07:23&lt;00:00,  6.94s/it]"
      }
     },
     "e64e4f6500b64d9f978b838e108bc7d3": {
      "model_module": "@jupyter-widgets/base",
      "model_module_version": "1.2.0",
      "model_name": "LayoutModel",
      "state": {}
     },
     "e738d8aea7d74b269d4409cc28b0fe1b": {
      "model_module": "@jupyter-widgets/controls",
      "model_module_version": "1.5.0",
      "model_name": "DescriptionStyleModel",
      "state": {
       "description_width": ""
      }
     },
     "e76b5231b9084c81a6dc61ad41d786a6": {
      "model_module": "@jupyter-widgets/controls",
      "model_module_version": "1.5.0",
      "model_name": "HTMLModel",
      "state": {
       "layout": "IPY_MODEL_b32e4d4f70eb480ba3b06401cc044654",
       "style": "IPY_MODEL_496703d7059345959e9ea242d9bb2647",
       "value": "100%"
      }
     },
     "e99c473054ac42f083b5b60332d2341e": {
      "model_module": "@jupyter-widgets/controls",
      "model_module_version": "1.5.0",
      "model_name": "HTMLModel",
      "state": {
       "layout": "IPY_MODEL_c57f8d98a450483eaa80da2f81696652",
       "style": "IPY_MODEL_60e67a865eee4b038624d44dbccf2fc8",
       "value": " 77%"
      }
     },
     "eb49f51fe54e4ee5bfafa5e0a48655b0": {
      "model_module": "@jupyter-widgets/base",
      "model_module_version": "1.2.0",
      "model_name": "LayoutModel",
      "state": {}
     },
     "ebc3a2d435bb45a781a81f2755ea1013": {
      "model_module": "@jupyter-widgets/base",
      "model_module_version": "1.2.0",
      "model_name": "LayoutModel",
      "state": {}
     },
     "ec31c86d304849c9a01c971c52ae36a5": {
      "model_module": "@jupyter-widgets/controls",
      "model_module_version": "1.5.0",
      "model_name": "HTMLModel",
      "state": {
       "layout": "IPY_MODEL_ebc3a2d435bb45a781a81f2755ea1013",
       "style": "IPY_MODEL_d8446fe694f84a339bc1d6b05bf63f10",
       "value": " 128/128 [02:22&lt;00:00,  1.11s/it]"
      }
     },
     "ed4184017b154772a8e3c7e1e703c3df": {
      "model_module": "@jupyter-widgets/base",
      "model_module_version": "1.2.0",
      "model_name": "LayoutModel",
      "state": {}
     },
     "f026218683eb46f8b53e07ca4f779ef1": {
      "model_module": "@jupyter-widgets/base",
      "model_module_version": "1.2.0",
      "model_name": "LayoutModel",
      "state": {}
     },
     "f05db721d3b7456e87e8efb97f56d244": {
      "model_module": "@jupyter-widgets/controls",
      "model_module_version": "1.5.0",
      "model_name": "ProgressStyleModel",
      "state": {
       "description_width": ""
      }
     },
     "f096600d6e62449cbcbe1e41bfe1f07f": {
      "model_module": "@jupyter-widgets/controls",
      "model_module_version": "1.5.0",
      "model_name": "DescriptionStyleModel",
      "state": {
       "description_width": ""
      }
     },
     "f1c828e2a3694932a05d4be157ffbeef": {
      "model_module": "@jupyter-widgets/base",
      "model_module_version": "1.2.0",
      "model_name": "LayoutModel",
      "state": {}
     },
     "f350c2b85ea842a9ba622d50118bb598": {
      "model_module": "@jupyter-widgets/base",
      "model_module_version": "1.2.0",
      "model_name": "LayoutModel",
      "state": {}
     },
     "f5552f64bca64b09953c57c6d139f460": {
      "model_module": "@jupyter-widgets/base",
      "model_module_version": "1.2.0",
      "model_name": "LayoutModel",
      "state": {}
     },
     "f6e63b1e1d184a928728a3732d614204": {
      "model_module": "@jupyter-widgets/controls",
      "model_module_version": "1.5.0",
      "model_name": "ProgressStyleModel",
      "state": {
       "description_width": ""
      }
     }
    },
    "version_major": 2,
    "version_minor": 0
   }
  }
 },
 "nbformat": 4,
 "nbformat_minor": 4
}
