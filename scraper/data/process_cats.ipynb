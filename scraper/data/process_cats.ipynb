{
 "cells": [
  {
   "cell_type": "code",
   "execution_count": 1,
   "metadata": {},
   "outputs": [],
   "source": [
    "from bs4 import BeautifulSoup\n",
    "from tqdm.auto import tqdm\n",
    "from scraper import Web, Site, parallel_map"
   ]
  },
  {
   "cell_type": "code",
   "execution_count": 2,
   "metadata": {},
   "outputs": [
    {
     "data": {
      "text/plain": [
       "Site at file://./sources/cats.html with 133 links"
      ]
     },
     "execution_count": 2,
     "metadata": {},
     "output_type": "execute_result"
    }
   ],
   "source": [
    "search_site = Site.from_file('./sources/cats.html')\n",
    "search_site"
   ]
  },
  {
   "cell_type": "code",
   "execution_count": 3,
   "metadata": {},
   "outputs": [
    {
     "data": {
      "application/vnd.jupyter.widget-view+json": {
       "model_id": "2101b16ab41549d88b7ad0e519726f85",
       "version_major": 2,
       "version_minor": 0
      },
      "text/plain": [
       "HBox(children=(HTML(value=''), FloatProgress(value=0.0, max=131.0), HTML(value='')))"
      ]
     },
     "metadata": {},
     "output_type": "display_data"
    },
    {
     "name": "stdout",
     "output_type": "stream",
     "text": [
      "\n"
     ]
    },
    {
     "data": {
      "text/plain": [
       "Web with 126 sites"
      ]
     },
     "execution_count": 3,
     "metadata": {},
     "output_type": "execute_result"
    }
   ],
   "source": [
    "def get_scam_web(link):\n",
    "    return Web.from_url(link, depth=1, parallel=False)\n",
    "\n",
    "web = Web.merge(*parallel_map(\n",
    "    get_scam_web,\n",
    "    search_site.external_links\n",
    "))\n",
    "web"
   ]
  },
  {
   "cell_type": "code",
   "execution_count": 4,
   "metadata": {},
   "outputs": [],
   "source": [
    "web.to_zip('./intermediate/cats.gz')"
   ]
  }
 ],
 "metadata": {
  "kernelspec": {
   "display_name": "Python 3",
   "language": "python",
   "name": "python3"
  },
  "language_info": {
   "codemirror_mode": {
    "name": "ipython",
    "version": 3
   },
   "file_extension": ".py",
   "mimetype": "text/x-python",
   "name": "python",
   "nbconvert_exporter": "python",
   "pygments_lexer": "ipython3",
   "version": "3.8.6"
  },
  "widgets": {
   "application/vnd.jupyter.widget-state+json": {
    "state": {
     "16224bb90fa44502a643070d8f79239e": {
      "model_module": "@jupyter-widgets/base",
      "model_module_version": "1.2.0",
      "model_name": "LayoutModel",
      "state": {}
     },
     "2101b16ab41549d88b7ad0e519726f85": {
      "model_module": "@jupyter-widgets/controls",
      "model_module_version": "1.5.0",
      "model_name": "HBoxModel",
      "state": {
       "children": [
        "IPY_MODEL_576272818d864bd19d628519541d8c4a",
        "IPY_MODEL_30afd46a185b446fa2976d7cee2c7878",
        "IPY_MODEL_35a1286c46cd4c20a0dac3cd2b6e3e01"
       ],
       "layout": "IPY_MODEL_16224bb90fa44502a643070d8f79239e"
      }
     },
     "279e73f027a34693925174cf78894a2a": {
      "model_module": "@jupyter-widgets/controls",
      "model_module_version": "1.5.0",
      "model_name": "ProgressStyleModel",
      "state": {
       "description_width": ""
      }
     },
     "30afd46a185b446fa2976d7cee2c7878": {
      "model_module": "@jupyter-widgets/controls",
      "model_module_version": "1.5.0",
      "model_name": "FloatProgressModel",
      "state": {
       "bar_style": "success",
       "layout": "IPY_MODEL_a08a8d77e5514d7296bb4ee4535ffe53",
       "max": 131,
       "style": "IPY_MODEL_279e73f027a34693925174cf78894a2a",
       "value": 131
      }
     },
     "35a1286c46cd4c20a0dac3cd2b6e3e01": {
      "model_module": "@jupyter-widgets/controls",
      "model_module_version": "1.5.0",
      "model_name": "HTMLModel",
      "state": {
       "layout": "IPY_MODEL_c044d4eb81a74040973cb3b081d2cf86",
       "style": "IPY_MODEL_f8c0b1cf297f4b00ac08e883acf9cff2",
       "value": " 131/131 [02:12&lt;00:00,  1.01s/it]"
      }
     },
     "576272818d864bd19d628519541d8c4a": {
      "model_module": "@jupyter-widgets/controls",
      "model_module_version": "1.5.0",
      "model_name": "HTMLModel",
      "state": {
       "layout": "IPY_MODEL_a45d3e089fc84a29be4ca6df32183e7d",
       "style": "IPY_MODEL_f4c19ce8e43a4bc9b7544ad9a6248946",
       "value": "100%"
      }
     },
     "a08a8d77e5514d7296bb4ee4535ffe53": {
      "model_module": "@jupyter-widgets/base",
      "model_module_version": "1.2.0",
      "model_name": "LayoutModel",
      "state": {}
     },
     "a45d3e089fc84a29be4ca6df32183e7d": {
      "model_module": "@jupyter-widgets/base",
      "model_module_version": "1.2.0",
      "model_name": "LayoutModel",
      "state": {}
     },
     "c044d4eb81a74040973cb3b081d2cf86": {
      "model_module": "@jupyter-widgets/base",
      "model_module_version": "1.2.0",
      "model_name": "LayoutModel",
      "state": {}
     },
     "f4c19ce8e43a4bc9b7544ad9a6248946": {
      "model_module": "@jupyter-widgets/controls",
      "model_module_version": "1.5.0",
      "model_name": "DescriptionStyleModel",
      "state": {
       "description_width": ""
      }
     },
     "f8c0b1cf297f4b00ac08e883acf9cff2": {
      "model_module": "@jupyter-widgets/controls",
      "model_module_version": "1.5.0",
      "model_name": "DescriptionStyleModel",
      "state": {
       "description_width": ""
      }
     }
    },
    "version_major": 2,
    "version_minor": 0
   }
  }
 },
 "nbformat": 4,
 "nbformat_minor": 4
}
